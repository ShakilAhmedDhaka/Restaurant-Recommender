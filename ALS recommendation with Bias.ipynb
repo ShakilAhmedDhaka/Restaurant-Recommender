{
 "cells": [
  {
   "cell_type": "code",
   "execution_count": 1,
   "metadata": {},
   "outputs": [],
   "source": [
    "from pyspark import SparkContext, SparkConf\n",
    "from pyspark.sql import SparkSession\n",
    "from pyspark.sql.functions import col, avg,to_date, datediff,year\n",
    "import hashlib\n",
    "from pyspark.sql.functions import udf,unix_timestamp\n",
    "\n",
    "from pyspark.ml.evaluation import RegressionEvaluator\n",
    "from pyspark.ml.recommendation import ALS\n",
    "\n",
    "\n",
    "import pandas as pd\n",
    "import numpy as np\n",
    "import matplotlib.pyplot as plt\n",
    "from scipy.stats import norm \n",
    "\n",
    "from pyspark.sql.types import *\n",
    "from pyspark.sql import Row\n",
    "\n",
    "from pyspark.ml.feature import StringIndexer"
   ]
  },
  {
   "cell_type": "code",
   "execution_count": 2,
   "metadata": {
    "scrolled": true
   },
   "outputs": [],
   "source": [
    "conf = SparkConf().setAppName(\"test\").setMaster(\"*\")\n",
    "spark = SparkSession.builder.getOrCreate()"
   ]
  },
  {
   "cell_type": "code",
   "execution_count": 3,
   "metadata": {},
   "outputs": [],
   "source": [
    "def fix_ids(s):\n",
    "    return int(int(hashlib.sha1(s).hexdigest(), 16) % 15487469)\n",
    "\n",
    "fix_ids_udf = udf(fix_ids)\n",
    "\n",
    "def fix_decimal_values(s):\n",
    "    return float(round(s,2))\n",
    "\n",
    "fix_round_udf = udf(fix_decimal_values)\n",
    "\n",
    "def conv_to_int(v):\n",
    "    return int(v)\n",
    "\n",
    "to_int_udf = udf(conv_to_int)"
   ]
  },
  {
   "cell_type": "code",
   "execution_count": 4,
   "metadata": {},
   "outputs": [
    {
     "name": "stdout",
     "output_type": "stream",
     "text": [
      "2.7.12\n"
     ]
    }
   ],
   "source": [
    "import platform\n",
    "\n",
    "print(platform.python_version())"
   ]
  },
  {
   "cell_type": "markdown",
   "metadata": {},
   "source": [
    "## Review Data Loaded"
   ]
  },
  {
   "cell_type": "code",
   "execution_count": 5,
   "metadata": {},
   "outputs": [],
   "source": [
    "df = spark.read.json('data/dataset/review.json')\n",
    "rating_df = df.select(df['user_id'],df['stars'].cast('int'),df['business_id'],df['date'].cast('date') )"
   ]
  },
  {
   "cell_type": "code",
   "execution_count": 6,
   "metadata": {
    "scrolled": true
   },
   "outputs": [],
   "source": [
    "# user_indexer = StringIndexer(inputCol=\"user_id\", outputCol=\"userId\")\n",
    "# user_indexed = user_indexer.fit(rating_df).transform(rating_df)\n",
    "# rating_df = user_indexed.withColumn('userId',to_int_udf(user_indexed['userId']))\n",
    "# rating_df.show()"
   ]
  },
  {
   "cell_type": "code",
   "execution_count": 7,
   "metadata": {},
   "outputs": [],
   "source": [
    "# item_indexer = StringIndexer(inputCol=\"business_id\", outputCol=\"businessId\")\n",
    "# item_indexed = item_indexer.fit(rating_df).transform(rating_df)\n",
    "# rating_df = item_indexed.withColumn('businessId',to_int_udf(col('businessId')))\n",
    "# rating_df.show()"
   ]
  },
  {
   "cell_type": "code",
   "execution_count": 8,
   "metadata": {},
   "outputs": [],
   "source": [
    "rating_df= rating_df.withColumn('userId',fix_ids_udf(rating_df['user_id']).cast('int'))\n",
    "rating_df= rating_df.withColumn('businessId',fix_ids_udf(rating_df['business_id']).cast('int'))"
   ]
  },
  {
   "cell_type": "markdown",
   "metadata": {},
   "source": [
    "## User Data Analysis"
   ]
  },
  {
   "cell_type": "code",
   "execution_count": 9,
   "metadata": {},
   "outputs": [],
   "source": [
    "users = spark.read.json('data/dataset/user.json')"
   ]
  },
  {
   "cell_type": "code",
   "execution_count": 10,
   "metadata": {
    "scrolled": false
   },
   "outputs": [],
   "source": [
    "users_selected = users.select(users['user_id'],users['review_count'],users['average_stars'],users['yelping_since'],users['friends'])"
   ]
  },
  {
   "cell_type": "code",
   "execution_count": 11,
   "metadata": {
    "scrolled": true
   },
   "outputs": [],
   "source": [
    "users_selected = users_selected.withColumn('user_id',fix_ids_udf(users['user_id']).cast('int'))"
   ]
  },
  {
   "cell_type": "code",
   "execution_count": 12,
   "metadata": {},
   "outputs": [],
   "source": [
    "users_selected = users_selected.withColumn('yelping_since',users['yelping_since'].cast('date'))"
   ]
  },
  {
   "cell_type": "code",
   "execution_count": 13,
   "metadata": {},
   "outputs": [],
   "source": [
    "def fix_friends_ids(lst):\n",
    "    a = []\n",
    "    for i in lst:\n",
    "        a.append(fix_ids(i))\n",
    "    return a\n",
    "\n",
    "conv_friends_id = udf(fix_friends_ids)\n",
    "\n",
    "users_selected = users_selected.withColumn('friends',conv_friends_id(users_selected['friends']))"
   ]
  },
  {
   "cell_type": "code",
   "execution_count": 14,
   "metadata": {
    "scrolled": true
   },
   "outputs": [
    {
     "name": "stdout",
     "output_type": "stream",
     "text": [
      "+--------+------------+-------------+-------------+--------------------+\n",
      "| user_id|review_count|average_stars|yelping_since|             friends|\n",
      "+--------+------------+-------------+-------------+--------------------+\n",
      "| 8436418|           8|         4.67|   2014-11-03|[6446606, 5351372...|\n",
      "| 3894741|          10|          3.7|   2013-09-24|[8017723, 1353619...|\n",
      "| 4586614|           1|          2.0|   2017-03-02|                  []|\n",
      "| 2754013|           6|         4.67|   2015-03-13|                  []|\n",
      "| 2057328|           3|         4.67|   2016-09-08|                  []|\n",
      "|10490533|          11|         3.45|   2012-07-16|                  []|\n",
      "| 8197779|           9|         4.78|   2012-05-01|                  []|\n",
      "|13063445|           2|          5.0|   2013-03-23|                  []|\n",
      "|13414689|           1|          1.0|   2010-10-10|                  []|\n",
      "|10013351|           7|         4.29|   2012-10-16|                  []|\n",
      "+--------+------------+-------------+-------------+--------------------+\n",
      "only showing top 10 rows\n",
      "\n"
     ]
    }
   ],
   "source": [
    "users_selected.show(10)"
   ]
  },
  {
   "cell_type": "code",
   "execution_count": 15,
   "metadata": {
    "scrolled": true
   },
   "outputs": [],
   "source": [
    "user_review_yelping_since = users_selected.groupBy(users_selected['yelping_since']).agg(avg(col('average_stars'))).sort(col('yelping_since').desc())"
   ]
  },
  {
   "cell_type": "code",
   "execution_count": 16,
   "metadata": {},
   "outputs": [
    {
     "data": {
      "text/html": [
       "<div>\n",
       "<style scoped>\n",
       "    .dataframe tbody tr th:only-of-type {\n",
       "        vertical-align: middle;\n",
       "    }\n",
       "\n",
       "    .dataframe tbody tr th {\n",
       "        vertical-align: top;\n",
       "    }\n",
       "\n",
       "    .dataframe thead th {\n",
       "        text-align: right;\n",
       "    }\n",
       "</style>\n",
       "<table border=\"1\" class=\"dataframe\">\n",
       "  <thead>\n",
       "    <tr style=\"text-align: right;\">\n",
       "      <th></th>\n",
       "      <th>yelping_since</th>\n",
       "      <th>avg(average_stars)</th>\n",
       "    </tr>\n",
       "  </thead>\n",
       "  <tbody>\n",
       "    <tr>\n",
       "      <th>0</th>\n",
       "      <td>2017-12-11</td>\n",
       "      <td>3.407615</td>\n",
       "    </tr>\n",
       "    <tr>\n",
       "      <th>1</th>\n",
       "      <td>2017-12-10</td>\n",
       "      <td>3.611700</td>\n",
       "    </tr>\n",
       "    <tr>\n",
       "      <th>2</th>\n",
       "      <td>2017-12-09</td>\n",
       "      <td>3.711601</td>\n",
       "    </tr>\n",
       "    <tr>\n",
       "      <th>3</th>\n",
       "      <td>2017-12-08</td>\n",
       "      <td>3.716089</td>\n",
       "    </tr>\n",
       "    <tr>\n",
       "      <th>4</th>\n",
       "      <td>2017-12-07</td>\n",
       "      <td>3.724940</td>\n",
       "    </tr>\n",
       "    <tr>\n",
       "      <th>5</th>\n",
       "      <td>2017-12-06</td>\n",
       "      <td>3.791422</td>\n",
       "    </tr>\n",
       "    <tr>\n",
       "      <th>6</th>\n",
       "      <td>2017-12-05</td>\n",
       "      <td>3.731330</td>\n",
       "    </tr>\n",
       "    <tr>\n",
       "      <th>7</th>\n",
       "      <td>2017-12-04</td>\n",
       "      <td>3.621106</td>\n",
       "    </tr>\n",
       "    <tr>\n",
       "      <th>8</th>\n",
       "      <td>2017-12-03</td>\n",
       "      <td>3.430347</td>\n",
       "    </tr>\n",
       "    <tr>\n",
       "      <th>9</th>\n",
       "      <td>2017-12-02</td>\n",
       "      <td>3.411208</td>\n",
       "    </tr>\n",
       "  </tbody>\n",
       "</table>\n",
       "</div>"
      ],
      "text/plain": [
       "  yelping_since  avg(average_stars)\n",
       "0    2017-12-11            3.407615\n",
       "1    2017-12-10            3.611700\n",
       "2    2017-12-09            3.711601\n",
       "3    2017-12-08            3.716089\n",
       "4    2017-12-07            3.724940\n",
       "5    2017-12-06            3.791422\n",
       "6    2017-12-05            3.731330\n",
       "7    2017-12-04            3.621106\n",
       "8    2017-12-03            3.430347\n",
       "9    2017-12-02            3.411208"
      ]
     },
     "execution_count": 16,
     "metadata": {},
     "output_type": "execute_result"
    }
   ],
   "source": [
    "pdf = user_review_yelping_since.toPandas()\n",
    "pdf.head(10)"
   ]
  },
  {
   "cell_type": "code",
   "execution_count": 17,
   "metadata": {
    "scrolled": true
   },
   "outputs": [
    {
     "data": {
      "text/plain": [
       "<matplotlib.axes._subplots.AxesSubplot at 0x7f3cba5b4450>"
      ]
     },
     "execution_count": 17,
     "metadata": {},
     "output_type": "execute_result"
    },
    {
     "data": {
      "image/png": "[encoded data removed]",
      "text/plain": [
       "<Figure size 432x288 with 1 Axes>"
      ]
     },
     "metadata": {},
     "output_type": "display_data"
    }
   ],
   "source": [
    "pdf.plot(x='yelping_since',y='avg(average_stars)')"
   ]
  },
  {
   "cell_type": "code",
   "execution_count": 18,
   "metadata": {},
   "outputs": [],
   "source": [
    "user_review_review_count = users_selected.groupBy(users_selected['review_count']).agg(avg(col('average_stars'))).sort(col('review_count').desc())"
   ]
  },
  {
   "cell_type": "code",
   "execution_count": 19,
   "metadata": {},
   "outputs": [
    {
     "data": {
      "text/html": [
       "<div>\n",
       "<style scoped>\n",
       "    .dataframe tbody tr th:only-of-type {\n",
       "        vertical-align: middle;\n",
       "    }\n",
       "\n",
       "    .dataframe tbody tr th {\n",
       "        vertical-align: top;\n",
       "    }\n",
       "\n",
       "    .dataframe thead th {\n",
       "        text-align: right;\n",
       "    }\n",
       "</style>\n",
       "<table border=\"1\" class=\"dataframe\">\n",
       "  <thead>\n",
       "    <tr style=\"text-align: right;\">\n",
       "      <th></th>\n",
       "      <th>review_count</th>\n",
       "      <th>avg(average_stars)</th>\n",
       "    </tr>\n",
       "  </thead>\n",
       "  <tbody>\n",
       "    <tr>\n",
       "      <th>0</th>\n",
       "      <td>11954</td>\n",
       "      <td>3.28</td>\n",
       "    </tr>\n",
       "    <tr>\n",
       "      <th>1</th>\n",
       "      <td>11323</td>\n",
       "      <td>3.82</td>\n",
       "    </tr>\n",
       "    <tr>\n",
       "      <th>2</th>\n",
       "      <td>9788</td>\n",
       "      <td>3.80</td>\n",
       "    </tr>\n",
       "    <tr>\n",
       "      <th>3</th>\n",
       "      <td>8353</td>\n",
       "      <td>3.58</td>\n",
       "    </tr>\n",
       "    <tr>\n",
       "      <th>4</th>\n",
       "      <td>7764</td>\n",
       "      <td>3.49</td>\n",
       "    </tr>\n",
       "    <tr>\n",
       "      <th>5</th>\n",
       "      <td>6653</td>\n",
       "      <td>3.32</td>\n",
       "    </tr>\n",
       "    <tr>\n",
       "      <th>6</th>\n",
       "      <td>6314</td>\n",
       "      <td>3.69</td>\n",
       "    </tr>\n",
       "    <tr>\n",
       "      <th>7</th>\n",
       "      <td>5868</td>\n",
       "      <td>3.29</td>\n",
       "    </tr>\n",
       "    <tr>\n",
       "      <th>8</th>\n",
       "      <td>5344</td>\n",
       "      <td>3.93</td>\n",
       "    </tr>\n",
       "    <tr>\n",
       "      <th>9</th>\n",
       "      <td>4634</td>\n",
       "      <td>3.80</td>\n",
       "    </tr>\n",
       "  </tbody>\n",
       "</table>\n",
       "</div>"
      ],
      "text/plain": [
       "   review_count  avg(average_stars)\n",
       "0         11954                3.28\n",
       "1         11323                3.82\n",
       "2          9788                3.80\n",
       "3          8353                3.58\n",
       "4          7764                3.49\n",
       "5          6653                3.32\n",
       "6          6314                3.69\n",
       "7          5868                3.29\n",
       "8          5344                3.93\n",
       "9          4634                3.80"
      ]
     },
     "execution_count": 19,
     "metadata": {},
     "output_type": "execute_result"
    }
   ],
   "source": [
    "pdf_review_count = user_review_review_count.toPandas()\n",
    "pdf_review_count.head(10)"
   ]
  },
  {
   "cell_type": "code",
   "execution_count": 20,
   "metadata": {
    "scrolled": false
   },
   "outputs": [
    {
     "data": {
      "text/plain": [
       "<matplotlib.axes._subplots.AxesSubplot at 0x7f3cba6728d0>"
      ]
     },
     "execution_count": 20,
     "metadata": {},
     "output_type": "execute_result"
    },
    {
     "data": {
      "image/png": "[encoded data removed]",
      "text/plain": [
       "<Figure size 432x288 with 1 Axes>"
      ]
     },
     "metadata": {},
     "output_type": "display_data"
    }
   ],
   "source": [
    "pdf_review_count.plot(x='review_count',y='avg(average_stars)')"
   ]
  },
  {
   "cell_type": "code",
   "execution_count": 21,
   "metadata": {},
   "outputs": [],
   "source": [
    "user_review_dict = dict(users_selected.select(col('user_id'),col('average_stars')).rdd.map(lambda x: (x.user_id,x.average_stars)).collect())\n",
    "#print(user_review_dict[5807338])\n",
    "#print(user_review_dict[853204])"
   ]
  },
  {
   "cell_type": "code",
   "execution_count": 22,
   "metadata": {},
   "outputs": [],
   "source": [
    "def friends_avg(x):\n",
    "    sm = 0\n",
    "    p = 0\n",
    "    for i in x:\n",
    "        if i in user_review_dict:\n",
    "            sm = sm + user_review_dict[i]\n",
    "            p = p + 1\n",
    "    if p > 0:        \n",
    "        return round(sm/p,2)\n",
    "\n",
    "get_friends_avg = udf(friends_avg)\n",
    "\n",
    "users_friends = users_selected.withColumn('friends_avg',get_friends_avg(users_selected['friends']))"
   ]
  },
  {
   "cell_type": "code",
   "execution_count": 23,
   "metadata": {},
   "outputs": [
    {
     "name": "stdout",
     "output_type": "stream",
     "text": [
      "+--------+------------+-------------+-------------+--------------------+-----------+\n",
      "| user_id|review_count|average_stars|yelping_since|             friends|friends_avg|\n",
      "+--------+------------+-------------+-------------+--------------------+-----------+\n",
      "| 8436418|           8|         4.67|   2014-11-03|[6446606, 5351372...|       4.39|\n",
      "| 3894741|          10|          3.7|   2013-09-24|[8017723, 1353619...|       3.83|\n",
      "| 6228320|           3|         3.33|   2017-01-07|[6924609, 2017178...|       3.43|\n",
      "|12386847|          48|         3.73|   2010-07-06|[14021683, 104318...|       4.01|\n",
      "| 7138897|          50|         3.96|   2007-08-22|[10225511, 994544...|       3.93|\n",
      "|11774897|         762|          3.6|   2008-09-23|[3571911, 1620957...|        3.8|\n",
      "|12432335|          31|         3.76|   2013-06-03|[7330490, 2040800...|       4.17|\n",
      "| 1362809|           2|          5.0|   2013-02-13|[14093868, 124512...|       3.93|\n",
      "|  474716|          37|         3.97|   2010-05-02|[8207499, 5863383...|       3.91|\n",
      "| 1587942|          47|         3.84|   2012-05-21|[7120947, 1163770...|       3.83|\n",
      "+--------+------------+-------------+-------------+--------------------+-----------+\n",
      "only showing top 10 rows\n",
      "\n"
     ]
    }
   ],
   "source": [
    "users_friends.filter(users_friends['friends_avg'].isNotNull()).show(10)"
   ]
  },
  {
   "cell_type": "code",
   "execution_count": 24,
   "metadata": {},
   "outputs": [
    {
     "data": {
      "text/html": [
       "<div>\n",
       "<style scoped>\n",
       "    .dataframe tbody tr th:only-of-type {\n",
       "        vertical-align: middle;\n",
       "    }\n",
       "\n",
       "    .dataframe tbody tr th {\n",
       "        vertical-align: top;\n",
       "    }\n",
       "\n",
       "    .dataframe thead th {\n",
       "        text-align: right;\n",
       "    }\n",
       "</style>\n",
       "<table border=\"1\" class=\"dataframe\">\n",
       "  <thead>\n",
       "    <tr style=\"text-align: right;\">\n",
       "      <th></th>\n",
       "      <th>average_stars</th>\n",
       "      <th>friends_avg</th>\n",
       "    </tr>\n",
       "  </thead>\n",
       "  <tbody>\n",
       "    <tr>\n",
       "      <th>0</th>\n",
       "      <td>3.92</td>\n",
       "      <td>3.79</td>\n",
       "    </tr>\n",
       "    <tr>\n",
       "      <th>1</th>\n",
       "      <td>1.00</td>\n",
       "      <td>3.76</td>\n",
       "    </tr>\n",
       "    <tr>\n",
       "      <th>2</th>\n",
       "      <td>4.68</td>\n",
       "      <td>3.55</td>\n",
       "    </tr>\n",
       "    <tr>\n",
       "      <th>3</th>\n",
       "      <td>3.71</td>\n",
       "      <td>3.46</td>\n",
       "    </tr>\n",
       "    <tr>\n",
       "      <th>4</th>\n",
       "      <td>3.50</td>\n",
       "      <td>3.63</td>\n",
       "    </tr>\n",
       "    <tr>\n",
       "      <th>5</th>\n",
       "      <td>4.58</td>\n",
       "      <td>4.34</td>\n",
       "    </tr>\n",
       "    <tr>\n",
       "      <th>6</th>\n",
       "      <td>3.86</td>\n",
       "      <td>2.97</td>\n",
       "    </tr>\n",
       "    <tr>\n",
       "      <th>7</th>\n",
       "      <td>3.57</td>\n",
       "      <td>3.34</td>\n",
       "    </tr>\n",
       "    <tr>\n",
       "      <th>8</th>\n",
       "      <td>3.72</td>\n",
       "      <td>4.71</td>\n",
       "    </tr>\n",
       "    <tr>\n",
       "      <th>9</th>\n",
       "      <td>5.00</td>\n",
       "      <td>4.19</td>\n",
       "    </tr>\n",
       "  </tbody>\n",
       "</table>\n",
       "</div>"
      ],
      "text/plain": [
       "   average_stars friends_avg\n",
       "0           3.92        3.79\n",
       "1           1.00        3.76\n",
       "2           4.68        3.55\n",
       "3           3.71        3.46\n",
       "4           3.50        3.63\n",
       "5           4.58        4.34\n",
       "6           3.86        2.97\n",
       "7           3.57        3.34\n",
       "8           3.72        4.71\n",
       "9           5.00        4.19"
      ]
     },
     "execution_count": 24,
     "metadata": {},
     "output_type": "execute_result"
    }
   ],
   "source": [
    "pdf_friends_avg = users_friends.filter(users_friends['friends_avg'].isNotNull()).filter(users_friends['user_id']<10000).select(col('average_stars'),col('friends_avg')).toPandas()\n",
    "pdf_friends_avg.head(10)"
   ]
  },
  {
   "cell_type": "code",
   "execution_count": 25,
   "metadata": {
    "scrolled": false
   },
   "outputs": [
    {
     "data": {
      "text/plain": [
       "<matplotlib.axes._subplots.AxesSubplot at 0x7f3cb5d8a990>"
      ]
     },
     "execution_count": 25,
     "metadata": {},
     "output_type": "execute_result"
    },
    {
     "data": {
      "image/png": "[encoded data removed]",
      "text/plain": [
       "<Figure size 432x288 with 1 Axes>"
      ]
     },
     "metadata": {},
     "output_type": "display_data"
    }
   ],
   "source": [
    "pdf_friends_avg = pdf_friends_avg.astype(float)\n",
    "#plt.rcParams['agg.path.chunksize'] = 1000\n",
    "pdf_friends_avg.plot.scatter(x='average_stars',y='friends_avg')"
   ]
  },
  {
   "cell_type": "markdown",
   "metadata": {},
   "source": [
    "## Restaurent Data Analysis"
   ]
  },
  {
   "cell_type": "code",
   "execution_count": 26,
   "metadata": {},
   "outputs": [],
   "source": [
    "business_df = spark.read.json('data/dataset/business.json')"
   ]
  },
  {
   "cell_type": "code",
   "execution_count": 27,
   "metadata": {},
   "outputs": [],
   "source": [
    "business_category_select = business_df.select(col('business_id'),col('categories'))"
   ]
  },
  {
   "cell_type": "code",
   "execution_count": 28,
   "metadata": {
    "scrolled": true
   },
   "outputs": [],
   "source": [
    "business_category = business_category_select.withColumn('business_id',fix_ids_udf(business_category_select['business_id']).cast('int')).select(col('business_id'),col('categories'))"
   ]
  },
  {
   "cell_type": "code",
   "execution_count": 29,
   "metadata": {},
   "outputs": [
    {
     "name": "stdout",
     "output_type": "stream",
     "text": [
      "+-----------+--------------------+\n",
      "|business_id|          categories|\n",
      "+-----------+--------------------+\n",
      "|    2718457|[Dentists, Genera...|\n",
      "|   11286356|[Hair Stylists, H...|\n",
      "|    1442508|[Departments of M...|\n",
      "|   14681532|[Sporting Goods, ...|\n",
      "|    4211146|[American (New), ...|\n",
      "|    7100726|[Italian, Restaur...|\n",
      "|    5813012|[Real Estate Serv...|\n",
      "|    1525688|[Shopping, Sporti...|\n",
      "|   12525828|[Coffee & Tea, Ic...|\n",
      "|    1098354|[Automotive, Auto...|\n",
      "+-----------+--------------------+\n",
      "only showing top 10 rows\n",
      "\n"
     ]
    }
   ],
   "source": [
    "business_category.show(10)"
   ]
  },
  {
   "cell_type": "code",
   "execution_count": 30,
   "metadata": {
    "scrolled": true
   },
   "outputs": [],
   "source": [
    "schema = StructType([StructField('business_id',IntegerType()), StructField('category',StringType())])\n",
    "business_category_separated = spark.createDataFrame(spark.sparkContext.parallelize(business_category.rdd.map(lambda x: [(x.business_id,i) for i in x.categories]).reduce(lambda x,y:x+y)),schema)"
   ]
  },
  {
   "cell_type": "code",
   "execution_count": 31,
   "metadata": {},
   "outputs": [
    {
     "name": "stdout",
     "output_type": "stream",
     "text": [
      "+-----------+--------------------+\n",
      "|business_id|            category|\n",
      "+-----------+--------------------+\n",
      "|    2718457|            Dentists|\n",
      "|    2718457|   General Dentistry|\n",
      "|    2718457|    Health & Medical|\n",
      "|    2718457|       Oral Surgeons|\n",
      "|    2718457|   Cosmetic Dentists|\n",
      "|    2718457|       Orthodontists|\n",
      "|   11286356|       Hair Stylists|\n",
      "|   11286356|         Hair Salons|\n",
      "|   11286356|   Men's Hair Salons|\n",
      "|   11286356|Blow Dry/Out Serv...|\n",
      "+-----------+--------------------+\n",
      "only showing top 10 rows\n",
      "\n"
     ]
    }
   ],
   "source": [
    "business_category_separated.show(10)"
   ]
  },
  {
   "cell_type": "code",
   "execution_count": 32,
   "metadata": {
    "scrolled": true
   },
   "outputs": [
    {
     "name": "stdout",
     "output_type": "stream",
     "text": [
      "+--------------------+------------------+\n",
      "|            category|count(business_id)|\n",
      "+--------------------+------------------+\n",
      "|      Dermatologists|               255|\n",
      "|    Historical Tours|                38|\n",
      "|      Paddleboarding|                36|\n",
      "| Mobile Home Dealers|                 3|\n",
      "|    Hot Air Balloons|                16|\n",
      "|       Videographers|               142|\n",
      "|       Data Recovery|               137|\n",
      "|         Boat Repair|                68|\n",
      "|       Skating Rinks|                78|\n",
      "|              Fondue|                45|\n",
      "|             Beaches|                52|\n",
      "|     Pet Photography|                30|\n",
      "|        Contract Law|                 8|\n",
      "|        Aerial Tours|                10|\n",
      "|   Signature Cuisine|                 1|\n",
      "|            Day Spas|              2274|\n",
      "|         Hobby Shops|               683|\n",
      "|               Reiki|               216|\n",
      "| Private Jet Charter|                 6|\n",
      "|      Serbo Croatian|                16|\n",
      "|            Honduran|                 4|\n",
      "|       Nephrologists|                 1|\n",
      "|            Palatine|                 1|\n",
      "|          Bubble Tea|               291|\n",
      "|          Gymnastics|               101|\n",
      "|     Process Servers|                 9|\n",
      "|         Shoe Repair|               270|\n",
      "|Child Care & Day ...|               608|\n",
      "|       International|               116|\n",
      "|              Tennis|                87|\n",
      "|             Embassy|                 8|\n",
      "|        Civic Center|                 7|\n",
      "|          Club Crawl|                 9|\n",
      "|        Car Auctions|                 6|\n",
      "|     Private Schools|                 3|\n",
      "|  Rotisserie Chicken|                 1|\n",
      "|             Tanning|               808|\n",
      "|  Damage Restoration|               370|\n",
      "|              Boxing|               181|\n",
      "|            Handyman|               450|\n",
      "|     Bed & Breakfast|               208|\n",
      "|   Botanical Gardens|                42|\n",
      "|           Orthotics|                51|\n",
      "|  University Housing|                87|\n",
      "|           Cafeteria|                45|\n",
      "|    Balloon Services|                 8|\n",
      "| Restaurant Supplies|                16|\n",
      "|            Ayurveda|                 9|\n",
      "|Traditional Clothing|                 5|\n",
      "|      Land Surveying|                 4|\n",
      "+--------------------+------------------+\n",
      "only showing top 50 rows\n",
      "\n"
     ]
    }
   ],
   "source": [
    "business_category_separated.groupBy(col('category')).agg({'business_id':'count'}).show(50)"
   ]
  },
  {
   "cell_type": "code",
   "execution_count": 33,
   "metadata": {},
   "outputs": [],
   "source": [
    "user_business_category = rating_df.join(business_category_separated,rating_df.businessId==business_category_separated.business_id).select(col('userId'),col('businessId'),col('date'),col('stars'),col('category'))"
   ]
  },
  {
   "cell_type": "code",
   "execution_count": 34,
   "metadata": {
    "scrolled": true
   },
   "outputs": [
    {
     "name": "stdout",
     "output_type": "stream",
     "text": [
      "+--------+----------+----------+-----+-----------+\n",
      "|  userId|businessId|      date|stars|   category|\n",
      "+--------+----------+----------+-----+-----------+\n",
      "|15406672|      1088|2008-04-09|    5| Mass Media|\n",
      "|15406672|      1088|2008-04-09|    5|Print Media|\n",
      "| 3472140|      1088|2008-02-02|    1| Mass Media|\n",
      "| 3472140|      1088|2008-02-02|    1|Print Media|\n",
      "| 9722800|      1088|2007-10-30|    2| Mass Media|\n",
      "| 9722800|      1088|2007-10-30|    2|Print Media|\n",
      "| 6968160|      1088|2008-02-13|    2| Mass Media|\n",
      "| 6968160|      1088|2008-02-13|    2|Print Media|\n",
      "|12597094|      1088|2008-02-01|    5| Mass Media|\n",
      "|12597094|      1088|2008-02-01|    5|Print Media|\n",
      "+--------+----------+----------+-----+-----------+\n",
      "only showing top 10 rows\n",
      "\n"
     ]
    }
   ],
   "source": [
    "user_business_category.show(10)"
   ]
  },
  {
   "cell_type": "code",
   "execution_count": 35,
   "metadata": {
    "scrolled": true
   },
   "outputs": [
    {
     "data": {
      "text/html": [
       "<div>\n",
       "<style scoped>\n",
       "    .dataframe tbody tr th:only-of-type {\n",
       "        vertical-align: middle;\n",
       "    }\n",
       "\n",
       "    .dataframe tbody tr th {\n",
       "        vertical-align: top;\n",
       "    }\n",
       "\n",
       "    .dataframe thead th {\n",
       "        text-align: right;\n",
       "    }\n",
       "</style>\n",
       "<table border=\"1\" class=\"dataframe\">\n",
       "  <thead>\n",
       "    <tr style=\"text-align: right;\">\n",
       "      <th></th>\n",
       "      <th>category</th>\n",
       "      <th>count</th>\n",
       "    </tr>\n",
       "  </thead>\n",
       "  <tbody>\n",
       "    <tr>\n",
       "      <th>0</th>\n",
       "      <td>Dermatologists</td>\n",
       "      <td>4231</td>\n",
       "    </tr>\n",
       "    <tr>\n",
       "      <th>1</th>\n",
       "      <td>Historical Tours</td>\n",
       "      <td>729</td>\n",
       "    </tr>\n",
       "    <tr>\n",
       "      <th>2</th>\n",
       "      <td>Paddleboarding</td>\n",
       "      <td>558</td>\n",
       "    </tr>\n",
       "    <tr>\n",
       "      <th>3</th>\n",
       "      <td>Hot Air Balloons</td>\n",
       "      <td>554</td>\n",
       "    </tr>\n",
       "    <tr>\n",
       "      <th>4</th>\n",
       "      <td>Mobile Home Dealers</td>\n",
       "      <td>10</td>\n",
       "    </tr>\n",
       "    <tr>\n",
       "      <th>5</th>\n",
       "      <td>Skating Rinks</td>\n",
       "      <td>1336</td>\n",
       "    </tr>\n",
       "    <tr>\n",
       "      <th>6</th>\n",
       "      <td>Pet Photography</td>\n",
       "      <td>190</td>\n",
       "    </tr>\n",
       "    <tr>\n",
       "      <th>7</th>\n",
       "      <td>Videographers</td>\n",
       "      <td>1241</td>\n",
       "    </tr>\n",
       "    <tr>\n",
       "      <th>8</th>\n",
       "      <td>Boat Repair</td>\n",
       "      <td>586</td>\n",
       "    </tr>\n",
       "    <tr>\n",
       "      <th>9</th>\n",
       "      <td>Data Recovery</td>\n",
       "      <td>2849</td>\n",
       "    </tr>\n",
       "    <tr>\n",
       "      <th>10</th>\n",
       "      <td>Beaches</td>\n",
       "      <td>1014</td>\n",
       "    </tr>\n",
       "    <tr>\n",
       "      <th>11</th>\n",
       "      <td>Fondue</td>\n",
       "      <td>5044</td>\n",
       "    </tr>\n",
       "    <tr>\n",
       "      <th>12</th>\n",
       "      <td>Aerial Tours</td>\n",
       "      <td>302</td>\n",
       "    </tr>\n",
       "    <tr>\n",
       "      <th>13</th>\n",
       "      <td>Contract Law</td>\n",
       "      <td>101</td>\n",
       "    </tr>\n",
       "    <tr>\n",
       "      <th>14</th>\n",
       "      <td>Signature Cuisine</td>\n",
       "      <td>3</td>\n",
       "    </tr>\n",
       "    <tr>\n",
       "      <th>15</th>\n",
       "      <td>Day Spas</td>\n",
       "      <td>75194</td>\n",
       "    </tr>\n",
       "    <tr>\n",
       "      <th>16</th>\n",
       "      <td>Hobby Shops</td>\n",
       "      <td>9214</td>\n",
       "    </tr>\n",
       "    <tr>\n",
       "      <th>17</th>\n",
       "      <td>Reiki</td>\n",
       "      <td>2727</td>\n",
       "    </tr>\n",
       "    <tr>\n",
       "      <th>18</th>\n",
       "      <td>Serbo Croatian</td>\n",
       "      <td>100</td>\n",
       "    </tr>\n",
       "    <tr>\n",
       "      <th>19</th>\n",
       "      <td>Honduran</td>\n",
       "      <td>142</td>\n",
       "    </tr>\n",
       "    <tr>\n",
       "      <th>20</th>\n",
       "      <td>Private Jet Charter</td>\n",
       "      <td>44</td>\n",
       "    </tr>\n",
       "    <tr>\n",
       "      <th>21</th>\n",
       "      <td>Nephrologists</td>\n",
       "      <td>3</td>\n",
       "    </tr>\n",
       "    <tr>\n",
       "      <th>22</th>\n",
       "      <td>Palatine</td>\n",
       "      <td>26</td>\n",
       "    </tr>\n",
       "    <tr>\n",
       "      <th>23</th>\n",
       "      <td>Bubble Tea</td>\n",
       "      <td>23070</td>\n",
       "    </tr>\n",
       "    <tr>\n",
       "      <th>24</th>\n",
       "      <td>Gymnastics</td>\n",
       "      <td>1107</td>\n",
       "    </tr>\n",
       "    <tr>\n",
       "      <th>25</th>\n",
       "      <td>Process Servers</td>\n",
       "      <td>105</td>\n",
       "    </tr>\n",
       "    <tr>\n",
       "      <th>26</th>\n",
       "      <td>Civic Center</td>\n",
       "      <td>166</td>\n",
       "    </tr>\n",
       "    <tr>\n",
       "      <th>27</th>\n",
       "      <td>Child Care &amp; Day Care</td>\n",
       "      <td>5691</td>\n",
       "    </tr>\n",
       "    <tr>\n",
       "      <th>28</th>\n",
       "      <td>Shoe Repair</td>\n",
       "      <td>3344</td>\n",
       "    </tr>\n",
       "    <tr>\n",
       "      <th>29</th>\n",
       "      <td>Tennis</td>\n",
       "      <td>1005</td>\n",
       "    </tr>\n",
       "    <tr>\n",
       "      <th>30</th>\n",
       "      <td>International</td>\n",
       "      <td>2122</td>\n",
       "    </tr>\n",
       "    <tr>\n",
       "      <th>31</th>\n",
       "      <td>Car Auctions</td>\n",
       "      <td>93</td>\n",
       "    </tr>\n",
       "    <tr>\n",
       "      <th>32</th>\n",
       "      <td>Embassy</td>\n",
       "      <td>63</td>\n",
       "    </tr>\n",
       "    <tr>\n",
       "      <th>33</th>\n",
       "      <td>Private Schools</td>\n",
       "      <td>9</td>\n",
       "    </tr>\n",
       "    <tr>\n",
       "      <th>34</th>\n",
       "      <td>Club Crawl</td>\n",
       "      <td>534</td>\n",
       "    </tr>\n",
       "    <tr>\n",
       "      <th>35</th>\n",
       "      <td>Rotisserie Chicken</td>\n",
       "      <td>56</td>\n",
       "    </tr>\n",
       "    <tr>\n",
       "      <th>36</th>\n",
       "      <td>Bed &amp; Breakfast</td>\n",
       "      <td>2914</td>\n",
       "    </tr>\n",
       "    <tr>\n",
       "      <th>37</th>\n",
       "      <td>Handyman</td>\n",
       "      <td>8105</td>\n",
       "    </tr>\n",
       "    <tr>\n",
       "      <th>38</th>\n",
       "      <td>Damage Restoration</td>\n",
       "      <td>6183</td>\n",
       "    </tr>\n",
       "    <tr>\n",
       "      <th>39</th>\n",
       "      <td>Botanical Gardens</td>\n",
       "      <td>4015</td>\n",
       "    </tr>\n",
       "    <tr>\n",
       "      <th>40</th>\n",
       "      <td>Tanning</td>\n",
       "      <td>14681</td>\n",
       "    </tr>\n",
       "    <tr>\n",
       "      <th>41</th>\n",
       "      <td>University Housing</td>\n",
       "      <td>1060</td>\n",
       "    </tr>\n",
       "    <tr>\n",
       "      <th>42</th>\n",
       "      <td>Boxing</td>\n",
       "      <td>2340</td>\n",
       "    </tr>\n",
       "    <tr>\n",
       "      <th>43</th>\n",
       "      <td>Cafeteria</td>\n",
       "      <td>1292</td>\n",
       "    </tr>\n",
       "    <tr>\n",
       "      <th>44</th>\n",
       "      <td>Orthotics</td>\n",
       "      <td>478</td>\n",
       "    </tr>\n",
       "    <tr>\n",
       "      <th>45</th>\n",
       "      <td>Restaurant Supplies</td>\n",
       "      <td>169</td>\n",
       "    </tr>\n",
       "    <tr>\n",
       "      <th>46</th>\n",
       "      <td>Balloon Services</td>\n",
       "      <td>71</td>\n",
       "    </tr>\n",
       "    <tr>\n",
       "      <th>47</th>\n",
       "      <td>Ayurveda</td>\n",
       "      <td>53</td>\n",
       "    </tr>\n",
       "    <tr>\n",
       "      <th>48</th>\n",
       "      <td>Traditional Clothing</td>\n",
       "      <td>21</td>\n",
       "    </tr>\n",
       "    <tr>\n",
       "      <th>49</th>\n",
       "      <td>Game Meat</td>\n",
       "      <td>55</td>\n",
       "    </tr>\n",
       "  </tbody>\n",
       "</table>\n",
       "</div>"
      ],
      "text/plain": [
       "                 category  count\n",
       "0          Dermatologists   4231\n",
       "1        Historical Tours    729\n",
       "2          Paddleboarding    558\n",
       "3        Hot Air Balloons    554\n",
       "4     Mobile Home Dealers     10\n",
       "5           Skating Rinks   1336\n",
       "6         Pet Photography    190\n",
       "7           Videographers   1241\n",
       "8             Boat Repair    586\n",
       "9           Data Recovery   2849\n",
       "10                Beaches   1014\n",
       "11                 Fondue   5044\n",
       "12           Aerial Tours    302\n",
       "13           Contract Law    101\n",
       "14      Signature Cuisine      3\n",
       "15               Day Spas  75194\n",
       "16            Hobby Shops   9214\n",
       "17                  Reiki   2727\n",
       "18         Serbo Croatian    100\n",
       "19               Honduran    142\n",
       "20    Private Jet Charter     44\n",
       "21          Nephrologists      3\n",
       "22               Palatine     26\n",
       "23             Bubble Tea  23070\n",
       "24             Gymnastics   1107\n",
       "25        Process Servers    105\n",
       "26           Civic Center    166\n",
       "27  Child Care & Day Care   5691\n",
       "28            Shoe Repair   3344\n",
       "29                 Tennis   1005\n",
       "30          International   2122\n",
       "31           Car Auctions     93\n",
       "32                Embassy     63\n",
       "33        Private Schools      9\n",
       "34             Club Crawl    534\n",
       "35     Rotisserie Chicken     56\n",
       "36        Bed & Breakfast   2914\n",
       "37               Handyman   8105\n",
       "38     Damage Restoration   6183\n",
       "39      Botanical Gardens   4015\n",
       "40                Tanning  14681\n",
       "41     University Housing   1060\n",
       "42                 Boxing   2340\n",
       "43              Cafeteria   1292\n",
       "44              Orthotics    478\n",
       "45    Restaurant Supplies    169\n",
       "46       Balloon Services     71\n",
       "47               Ayurveda     53\n",
       "48   Traditional Clothing     21\n",
       "49              Game Meat     55"
      ]
     },
     "execution_count": 35,
     "metadata": {},
     "output_type": "execute_result"
    }
   ],
   "source": [
    "user_business_category.groupBy(col('category')).count().toPandas().head(50)"
   ]
  },
  {
   "cell_type": "code",
   "execution_count": 36,
   "metadata": {
    "scrolled": true
   },
   "outputs": [],
   "source": [
    "category_density = user_business_category.groupBy(col('category')).agg(avg(col('stars')).cast('float').alias('avg_stars')).toPandas()"
   ]
  },
  {
   "cell_type": "code",
   "execution_count": 37,
   "metadata": {},
   "outputs": [
    {
     "data": {
      "text/html": [
       "<div>\n",
       "<style scoped>\n",
       "    .dataframe tbody tr th:only-of-type {\n",
       "        vertical-align: middle;\n",
       "    }\n",
       "\n",
       "    .dataframe tbody tr th {\n",
       "        vertical-align: top;\n",
       "    }\n",
       "\n",
       "    .dataframe thead th {\n",
       "        text-align: right;\n",
       "    }\n",
       "</style>\n",
       "<table border=\"1\" class=\"dataframe\">\n",
       "  <thead>\n",
       "    <tr style=\"text-align: right;\">\n",
       "      <th></th>\n",
       "      <th>category</th>\n",
       "      <th>avg_stars</th>\n",
       "    </tr>\n",
       "  </thead>\n",
       "  <tbody>\n",
       "    <tr>\n",
       "      <th>0</th>\n",
       "      <td>Dermatologists</td>\n",
       "      <td>3.393760</td>\n",
       "    </tr>\n",
       "    <tr>\n",
       "      <th>1</th>\n",
       "      <td>Historical Tours</td>\n",
       "      <td>4.584362</td>\n",
       "    </tr>\n",
       "    <tr>\n",
       "      <th>2</th>\n",
       "      <td>Paddleboarding</td>\n",
       "      <td>4.648746</td>\n",
       "    </tr>\n",
       "    <tr>\n",
       "      <th>3</th>\n",
       "      <td>Hot Air Balloons</td>\n",
       "      <td>4.720217</td>\n",
       "    </tr>\n",
       "    <tr>\n",
       "      <th>4</th>\n",
       "      <td>Mobile Home Dealers</td>\n",
       "      <td>3.000000</td>\n",
       "    </tr>\n",
       "    <tr>\n",
       "      <th>5</th>\n",
       "      <td>Skating Rinks</td>\n",
       "      <td>3.512725</td>\n",
       "    </tr>\n",
       "    <tr>\n",
       "      <th>6</th>\n",
       "      <td>Pet Photography</td>\n",
       "      <td>4.873684</td>\n",
       "    </tr>\n",
       "    <tr>\n",
       "      <th>7</th>\n",
       "      <td>Videographers</td>\n",
       "      <td>4.478646</td>\n",
       "    </tr>\n",
       "    <tr>\n",
       "      <th>8</th>\n",
       "      <td>Boat Repair</td>\n",
       "      <td>4.179181</td>\n",
       "    </tr>\n",
       "    <tr>\n",
       "      <th>9</th>\n",
       "      <td>Data Recovery</td>\n",
       "      <td>4.443665</td>\n",
       "    </tr>\n",
       "  </tbody>\n",
       "</table>\n",
       "</div>"
      ],
      "text/plain": [
       "              category  avg_stars\n",
       "0       Dermatologists   3.393760\n",
       "1     Historical Tours   4.584362\n",
       "2       Paddleboarding   4.648746\n",
       "3     Hot Air Balloons   4.720217\n",
       "4  Mobile Home Dealers   3.000000\n",
       "5        Skating Rinks   3.512725\n",
       "6      Pet Photography   4.873684\n",
       "7        Videographers   4.478646\n",
       "8          Boat Repair   4.179181\n",
       "9        Data Recovery   4.443665"
      ]
     },
     "execution_count": 37,
     "metadata": {},
     "output_type": "execute_result"
    }
   ],
   "source": [
    "category_density.head(10)"
   ]
  },
  {
   "cell_type": "code",
   "execution_count": 38,
   "metadata": {
    "scrolled": false
   },
   "outputs": [
    {
     "name": "stderr",
     "output_type": "stream",
     "text": [
      "/usr/local/lib/python2.7/dist-packages/matplotlib/axes/_axes.py:6462: UserWarning: The 'normed' kwarg is deprecated, and has been replaced by the 'density' kwarg.\n",
      "  warnings.warn(\"The 'normed' kwarg is deprecated, and has been \"\n"
     ]
    },
    {
     "data": {
      "image/png": "[encoded data removed]",
      "text/plain": [
       "<Figure size 432x288 with 1 Axes>"
      ]
     },
     "metadata": {},
     "output_type": "display_data"
    }
   ],
   "source": [
    "category_density['avg_stars'].plot(kind='hist', normed=True)\n",
    "range = np.arange(1.5, 5, 0.001)\n",
    "avg = 3.7\n",
    "#plt.plot(range, norm.pdf(range,avg,.5))"
   ]
  },
  {
   "cell_type": "markdown",
   "metadata": {},
   "source": [
    "## Recommendation"
   ]
  },
  {
   "cell_type": "code",
   "execution_count": 39,
   "metadata": {},
   "outputs": [
    {
     "name": "stdout",
     "output_type": "stream",
     "text": [
      "3.76095445756\n"
     ]
    }
   ],
   "source": [
    "gavg=user_business_category.groupBy().agg({\"stars\": \"avg\"}).collect()[0][0]\n",
    "print(gavg)\n",
    "#gavg = 3.7266"
   ]
  },
  {
   "cell_type": "code",
   "execution_count": 40,
   "metadata": {
    "scrolled": true
   },
   "outputs": [
    {
     "name": "stdout",
     "output_type": "stream",
     "text": [
      "+------+----------+----------+-----+--------------------+---------+\n",
      "|userId|businessId|      date|stars|            category|user-mean|\n",
      "+------+----------+----------+-----+--------------------+---------+\n",
      "|   496|   2364615|2017-10-31|    3|Event Planning & ...|     3.14|\n",
      "|   496|   2364615|2017-10-31|    3|         Restaurants|     3.14|\n",
      "|   496|   2364615|2017-10-31|    3|            Caterers|     3.14|\n",
      "|   496|   2364615|2017-10-31|    3|American (Traditi...|     3.14|\n",
      "|   496|   2364615|2017-10-31|    3|        Comfort Food|     3.14|\n",
      "+------+----------+----------+-----+--------------------+---------+\n",
      "only showing top 5 rows\n",
      "\n"
     ]
    }
   ],
   "source": [
    "df_user_avg = user_business_category.groupby(col('userId')).agg({'stars':'avg'}).select('userId',col('avg(stars)').alias('user-mean').cast('float'))\n",
    "df_user_avg2 = user_business_category.join(df_user_avg,'userId')\n",
    "user_data = df_user_avg2.withColumn('user-mean',fix_round_udf(df_user_avg2['user-mean']))\n",
    "user_data.show(5)"
   ]
  },
  {
   "cell_type": "code",
   "execution_count": 41,
   "metadata": {},
   "outputs": [
    {
     "name": "stdout",
     "output_type": "stream",
     "text": [
      "+----------+--------+----------+-----+-----------+---------+---------+\n",
      "|businessId|  userId|      date|stars|   category|user-mean|item-mean|\n",
      "+----------+--------+----------+-----+-----------+---------+---------+\n",
      "|      1088| 3915923|2007-07-27|    3| Mass Media|     3.94|      2.8|\n",
      "|      1088| 3915923|2007-07-27|    3|Print Media|     3.94|      2.8|\n",
      "|      1088|  331248|2007-05-25|    4| Mass Media|     4.01|      2.8|\n",
      "|      1088|  331248|2007-05-25|    4|Print Media|     4.01|      2.8|\n",
      "|      1088|12597094|2008-02-01|    5| Mass Media|     3.02|      2.8|\n",
      "+----------+--------+----------+-----+-----------+---------+---------+\n",
      "only showing top 5 rows\n",
      "\n"
     ]
    }
   ],
   "source": [
    "df_item_avg = user_business_category.groupby(col('businessId')).agg({'stars':'avg'}).select('businessId',col('avg(stars)').alias('item-mean').cast('float'))\n",
    "df_item_avg2 = user_data.join(df_item_avg,'businessId')\n",
    "item_data = df_item_avg2.withColumn('item-mean',fix_round_udf(df_item_avg2['item-mean']))\n",
    "item_data.show(5)"
   ]
  },
  {
   "cell_type": "code",
   "execution_count": 42,
   "metadata": {
    "scrolled": true
   },
   "outputs": [
    {
     "name": "stdout",
     "output_type": "stream",
     "text": [
      "+--------------+----------+--------+----------+-----+---------+---------+-------------+\n",
      "|      category|businessId|  userId|      date|stars|user-mean|item-mean|category-mean|\n",
      "+--------------+----------+--------+----------+-----+---------+---------+-------------+\n",
      "|Dermatologists|   7344456|13271053|2011-03-23|    2|     3.22|     3.25|         3.39|\n",
      "|Dermatologists|   7344456|  946885|2014-06-04|    1|     2.47|     3.25|         3.39|\n",
      "|Dermatologists|   7344456| 7422512|2016-07-06|    5|      5.0|     3.25|         3.39|\n",
      "|Dermatologists|   7344456|  613097|2016-07-07|    5|      5.0|     3.25|         3.39|\n",
      "|Dermatologists|   1293808|13507985|2016-07-23|    1|     2.23|     3.27|         3.39|\n",
      "+--------------+----------+--------+----------+-----+---------+---------+-------------+\n",
      "only showing top 5 rows\n",
      "\n"
     ]
    }
   ],
   "source": [
    "df_category_avg = user_business_category.groupby(col('category')).agg({'stars':'avg'}).select('category',col('avg(stars)').alias('category-mean').cast('float'))\n",
    "df_category_avg2 = item_data.join(df_category_avg,'category')\n",
    "category_data = df_category_avg2.withColumn('category-mean',fix_round_udf(df_category_avg2['category-mean']))\n",
    "category_data.show(5)"
   ]
  },
  {
   "cell_type": "code",
   "execution_count": 43,
   "metadata": {},
   "outputs": [
    {
     "name": "stdout",
     "output_type": "stream",
     "text": [
      "+--------------+----------+--------+----------+-----+---------+---------+-------------+---------------------+\n",
      "|      category|businessId|  userId|      date|stars|user-mean|item-mean|category-mean|user-item-interaction|\n",
      "+--------------+----------+--------+----------+-----+---------+---------+-------------+---------------------+\n",
      "|Dermatologists|   7344456|13271053|2011-03-23|    2|     3.22|     3.25|         3.39|                -0.71|\n",
      "|Dermatologists|   7344456|  946885|2014-06-04|    1|     2.47|     3.25|         3.39|                -0.96|\n",
      "|Dermatologists|   7344456| 7422512|2016-07-06|    5|      5.0|     3.25|         3.39|                 0.51|\n",
      "|Dermatologists|   7344456|  613097|2016-07-07|    5|      5.0|     3.25|         3.39|                 0.51|\n",
      "|Dermatologists|   1293808|13507985|2016-07-23|    1|     2.23|     3.27|         3.39|                -0.74|\n",
      "+--------------+----------+--------+----------+-----+---------+---------+-------------+---------------------+\n",
      "only showing top 5 rows\n",
      "\n"
     ]
    }
   ],
   "source": [
    "data_filtered = category_data.withColumn('user-item-interaction',category_data.stars-(category_data['user-mean']+\\\n",
    "    category_data['item-mean']-gavg))\n",
    "final_data = data_filtered.withColumn('user-item-interaction',fix_round_udf(data_filtered['user-item-interaction']))\n",
    "final_data.show(5)"
   ]
  },
  {
   "cell_type": "code",
   "execution_count": 44,
   "metadata": {},
   "outputs": [
    {
     "name": "stdout",
     "output_type": "stream",
     "text": [
      "+--------+----------+---------------------+\n",
      "|  userId|businessId|user-item-interaction|\n",
      "+--------+----------+---------------------+\n",
      "|13271053|   7344456|                -0.71|\n",
      "|  946885|   7344456|                -0.96|\n",
      "| 7422512|   7344456|                 0.51|\n",
      "|  613097|   7344456|                 0.51|\n",
      "|13507985|   1293808|                -0.74|\n",
      "+--------+----------+---------------------+\n",
      "only showing top 5 rows\n",
      "\n"
     ]
    }
   ],
   "source": [
    "seed_data = final_data.select('userId','businessId',col('user-item-interaction').cast('float'))\n",
    "seed_data.show(5)"
   ]
  },
  {
   "cell_type": "code",
   "execution_count": 45,
   "metadata": {},
   "outputs": [],
   "source": [
    "(training,test,spill) = seed_data.randomSplit([0.18,0.02,.80],123)"
   ]
  },
  {
   "cell_type": "code",
   "execution_count": 46,
   "metadata": {
    "scrolled": true
   },
   "outputs": [
    {
     "name": "stdout",
     "output_type": "stream",
     "text": [
      "+------+----------+---------------------+\n",
      "|userId|businessId|user-item-interaction|\n",
      "+------+----------+---------------------+\n",
      "| 15260|  12929346|                -0.02|\n",
      "| 17040|  13400651|                -0.03|\n",
      "| 26414|  12198385|                -1.23|\n",
      "| 43237|  12277671|                 0.94|\n",
      "| 94468|   4241012|                -0.57|\n",
      "+------+----------+---------------------+\n",
      "only showing top 5 rows\n",
      "\n"
     ]
    }
   ],
   "source": [
    "training.show(5)"
   ]
  },
  {
   "cell_type": "code",
   "execution_count": 47,
   "metadata": {
    "scrolled": true
   },
   "outputs": [],
   "source": [
    "als = ALS(maxIter=5, regParam=0.01, userCol=\"userId\", itemCol=\"businessId\", ratingCol='user-item-interaction',\n",
    "          coldStartStrategy=\"drop\",rank=40)\n",
    "model = als.fit(training)"
   ]
  },
  {
   "cell_type": "code",
   "execution_count": 48,
   "metadata": {
    "scrolled": false
   },
   "outputs": [
    {
     "name": "stdout",
     "output_type": "stream",
     "text": [
      "+-------+----------+---------------------+-----------+\n",
      "| userId|businessId|user-item-interaction| prediction|\n",
      "+-------+----------+---------------------+-----------+\n",
      "|2539263|     15447|                -1.18| -1.1711619|\n",
      "|5955479|     37489|                 0.53| 0.14480537|\n",
      "|2167328|     37489|                 0.71|-0.30136073|\n",
      "|3003050|     46266|                 1.02|  0.8504933|\n",
      "|6506370|     46266|                 1.61|  1.0505974|\n",
      "+-------+----------+---------------------+-----------+\n",
      "only showing top 5 rows\n",
      "\n"
     ]
    }
   ],
   "source": [
    "predictions = model.transform(test)\n",
    "predictions.show(5)"
   ]
  },
  {
   "cell_type": "code",
   "execution_count": 49,
   "metadata": {},
   "outputs": [
    {
     "name": "stdout",
     "output_type": "stream",
     "text": [
      "+-------+----------+---------------------+----------+\n",
      "| userId|businessId|user-item-interaction|prediction|\n",
      "+-------+----------+---------------------+----------+\n",
      "|2539263|     15447|                -1.18|     -1.17|\n",
      "|5955479|     37489|                 0.53|      0.14|\n",
      "|2167328|     37489|                 0.71|      -0.3|\n",
      "|3003050|     46266|                 1.02|      0.85|\n",
      "|6506370|     46266|                 1.61|      1.05|\n",
      "+-------+----------+---------------------+----------+\n",
      "only showing top 5 rows\n",
      "\n"
     ]
    }
   ],
   "source": [
    "predictions2 = predictions.withColumn('prediction',fix_round_udf(predictions['prediction']))\n",
    "predictions3 = predictions2.select('userId','businessId',col('user-item-interaction').cast('float'),col('prediction').cast('float'))\n",
    "predictions3.show(5)"
   ]
  },
  {
   "cell_type": "code",
   "execution_count": 50,
   "metadata": {
    "scrolled": true
   },
   "outputs": [
    {
     "name": "stdout",
     "output_type": "stream",
     "text": [
      "Root-mean-square error = 0.788095778623\n"
     ]
    }
   ],
   "source": [
    "evaluator = RegressionEvaluator(metricName=\"rmse\", labelCol=\"user-item-interaction\",predictionCol=\"prediction\")\n",
    "rmse = evaluator.evaluate(predictions3)\n",
    "print(\"Root-mean-square error = \" + str(rmse))"
   ]
  },
  {
   "cell_type": "markdown",
   "metadata": {},
   "source": [
    "### After 2007"
   ]
  },
  {
   "cell_type": "code",
   "execution_count": 51,
   "metadata": {
    "scrolled": false
   },
   "outputs": [
    {
     "name": "stdout",
     "output_type": "stream",
     "text": [
      "+--------------+----------+--------+----------+-----+---------+---------+-------------+---------------------+\n",
      "|      category|businessId|  userId|      date|stars|user-mean|item-mean|category-mean|user-item-interaction|\n",
      "+--------------+----------+--------+----------+-----+---------+---------+-------------+---------------------+\n",
      "|Dermatologists|   7344456|13271053|2011-03-23|    2|     3.22|     3.25|         3.39|                -0.71|\n",
      "|Dermatologists|   7344456|  946885|2014-06-04|    1|     2.47|     3.25|         3.39|                -0.96|\n",
      "|Dermatologists|   7344456| 7422512|2016-07-06|    5|      5.0|     3.25|         3.39|                 0.51|\n",
      "|Dermatologists|   7344456|  613097|2016-07-07|    5|      5.0|     3.25|         3.39|                 0.51|\n",
      "|Dermatologists|   1293808| 5253906|2016-11-17|    1|     4.29|     3.27|         3.39|                 -2.8|\n",
      "+--------------+----------+--------+----------+-----+---------+---------+-------------+---------------------+\n",
      "only showing top 5 rows\n",
      "\n"
     ]
    }
   ],
   "source": [
    "seed_data2 = final_data.withColumn('date',to_date(col('date')))\n",
    "seed_data2.show(5)"
   ]
  },
  {
   "cell_type": "code",
   "execution_count": 52,
   "metadata": {
    "scrolled": true
   },
   "outputs": [
    {
     "name": "stdout",
     "output_type": "stream",
     "text": [
      "+--------------+----------+--------+----------+-----+---------+---------+-------------+---------------------+----------+\n",
      "|      category|businessId|  userId|      date|stars|user-mean|item-mean|category-mean|user-item-interaction|    in2007|\n",
      "+--------------+----------+--------+----------+-----+---------+---------+-------------+---------------------+----------+\n",
      "|Dermatologists|   7344456|13271053|2011-03-23|    2|     3.22|     3.25|         3.39|                -0.71|2007-12-31|\n",
      "|Dermatologists|   7344456|  946885|2014-06-04|    1|     2.47|     3.25|         3.39|                -0.96|2007-12-31|\n",
      "|Dermatologists|   7344456| 7422512|2016-07-06|    5|      5.0|     3.25|         3.39|                 0.51|2007-12-31|\n",
      "|Dermatologists|   7344456|  613097|2016-07-07|    5|      5.0|     3.25|         3.39|                 0.51|2007-12-31|\n",
      "|Dermatologists|   1293808| 5253906|2016-11-17|    1|     4.29|     3.27|         3.39|                 -2.8|2007-12-31|\n",
      "+--------------+----------+--------+----------+-----+---------+---------+-------------+---------------------+----------+\n",
      "only showing top 5 rows\n",
      "\n"
     ]
    }
   ],
   "source": [
    "def get_2007s(x):\n",
    "    return '2007-12-31'\n",
    "\n",
    "get_2007_udf = udf(get_2007s)\n",
    "\n",
    "seed_data3 = seed_data2.withColumn('in2007',get_2007_udf(col('date'))  )\n",
    "seed_data3.show(5)"
   ]
  },
  {
   "cell_type": "code",
   "execution_count": 53,
   "metadata": {},
   "outputs": [
    {
     "name": "stdout",
     "output_type": "stream",
     "text": [
      "+--------------+----------+--------+----------+-----+---------+---------+-------------+---------------------+----------+\n",
      "|      category|businessId|  userId|      date|stars|user-mean|item-mean|category-mean|user-item-interaction|    in2007|\n",
      "+--------------+----------+--------+----------+-----+---------+---------+-------------+---------------------+----------+\n",
      "|Dermatologists|   7344456|13271053|2011-03-23|    2|     3.22|     3.25|         3.39|                -0.71|2007-12-31|\n",
      "|Dermatologists|   7344456|  946885|2014-06-04|    1|     2.47|     3.25|         3.39|                -0.96|2007-12-31|\n",
      "|Dermatologists|   7344456| 7422512|2016-07-06|    5|      5.0|     3.25|         3.39|                 0.51|2007-12-31|\n",
      "|Dermatologists|   7344456|  613097|2016-07-07|    5|      5.0|     3.25|         3.39|                 0.51|2007-12-31|\n",
      "|Dermatologists|   1293808| 5253906|2016-11-17|    1|     4.29|     3.27|         3.39|                 -2.8|2007-12-31|\n",
      "+--------------+----------+--------+----------+-----+---------+---------+-------------+---------------------+----------+\n",
      "only showing top 5 rows\n",
      "\n"
     ]
    }
   ],
   "source": [
    "seed_data4 = seed_data3.filter(datediff(seed_data3.date, seed_data3.in2007) > 0 )\n",
    "seed_data4.show(5)"
   ]
  },
  {
   "cell_type": "code",
   "execution_count": 54,
   "metadata": {},
   "outputs": [
    {
     "name": "stdout",
     "output_type": "stream",
     "text": [
      "+--------+----------+------+----+-----+---------+---------+-------------+---------------------+------+\n",
      "|category|businessId|userId|date|stars|user-mean|item-mean|category-mean|user-item-interaction|in2007|\n",
      "+--------+----------+------+----+-----+---------+---------+-------------+---------------------+------+\n",
      "+--------+----------+------+----+-----+---------+---------+-------------+---------------------+------+\n",
      "\n"
     ]
    }
   ],
   "source": [
    "seed_data4.filter(datediff(seed_data4.date, seed_data3.in2007) < 0 ).show()"
   ]
  },
  {
   "cell_type": "code",
   "execution_count": 55,
   "metadata": {},
   "outputs": [],
   "source": [
    "seed_data5 = seed_data4.select('userId','businessId',col('user-item-interaction').cast('float'))\n",
    "(training2,test2,spill) = seed_data5.randomSplit([0.18,0.02,.80],123)"
   ]
  },
  {
   "cell_type": "code",
   "execution_count": 56,
   "metadata": {},
   "outputs": [
    {
     "name": "stdout",
     "output_type": "stream",
     "text": [
      "+------+----------+---------------------+\n",
      "|userId|businessId|user-item-interaction|\n",
      "+------+----------+---------------------+\n",
      "| 15260|  12929346|                -0.02|\n",
      "| 17040|  13400651|                -0.03|\n",
      "| 26414|  12198385|                -1.23|\n",
      "| 43237|  12277671|                 0.94|\n",
      "| 94468|   4241012|                -0.57|\n",
      "+------+----------+---------------------+\n",
      "only showing top 5 rows\n",
      "\n"
     ]
    }
   ],
   "source": [
    "training2.show(5)"
   ]
  },
  {
   "cell_type": "code",
   "execution_count": 57,
   "metadata": {
    "scrolled": true
   },
   "outputs": [],
   "source": [
    "als2 = ALS(maxIter=10, regParam=0.01, userCol=\"userId\", itemCol=\"businessId\", ratingCol='user-item-interaction',\n",
    "          coldStartStrategy=\"drop\",rank=40)\n",
    "model_dated = als2.fit(training2)"
   ]
  },
  {
   "cell_type": "code",
   "execution_count": 58,
   "metadata": {},
   "outputs": [],
   "source": [
    "predictions_dated = model_dated.transform(test2)"
   ]
  },
  {
   "cell_type": "code",
   "execution_count": 59,
   "metadata": {},
   "outputs": [],
   "source": [
    "predictions_dated2 = predictions_dated.withColumn('prediction',fix_round_udf(predictions_dated['prediction']))\n",
    "predictions_dated3 = predictions_dated2.select('userId','businessId',col('user-item-interaction').cast('float'),col('prediction').cast('float'))"
   ]
  },
  {
   "cell_type": "code",
   "execution_count": 60,
   "metadata": {},
   "outputs": [
    {
     "name": "stdout",
     "output_type": "stream",
     "text": [
      "Root-mean-square error = 0.771059836805\n"
     ]
    }
   ],
   "source": [
    "rmse_dated = evaluator.evaluate(predictions_dated3)\n",
    "print(\"Root-mean-square error = \" + str(rmse_dated))"
   ]
  },
  {
   "cell_type": "code",
   "execution_count": null,
   "metadata": {},
   "outputs": [],
   "source": []
  }
 ],
 "metadata": {
  "kernelspec": {
   "display_name": "Python 2",
   "language": "python",
   "name": "python2"
  },
  "language_info": {
   "codemirror_mode": {
    "name": "ipython",
    "version": 2
   },
   "file_extension": ".py",
   "mimetype": "text/x-python",
   "name": "python",
   "nbconvert_exporter": "python",
   "pygments_lexer": "ipython2",
   "version": "2.7.12"
  }
 },
 "nbformat": 4,
 "nbformat_minor": 2
}
