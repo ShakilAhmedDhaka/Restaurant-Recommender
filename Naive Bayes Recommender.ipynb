{
 "cells": [
  {
   "cell_type": "code",
   "execution_count": 86,
   "metadata": {},
   "outputs": [],
   "source": [
    "from pyspark import SparkContext, SparkConf\n",
    "from pyspark.sql import SparkSession\n",
    "from pyspark.sql.functions import col, avg,when\n",
    "import hashlib\n",
    "from pyspark.sql.functions import udf\n",
    "\n",
    "from pyspark.ml.evaluation import RegressionEvaluator\n",
    "from pyspark.ml.recommendation import ALS\n",
    "\n",
    "\n",
    "import pandas as pd\n",
    "import numpy as np\n",
    "import matplotlib.pyplot as plt\n",
    "from scipy.stats import norm \n",
    "\n",
    "from pyspark.sql.types import *\n",
    "from pyspark.sql import Row\n",
    "\n",
    "from pyspark.ml.feature import StringIndexer\n",
    "\n",
    "### Tokenizers\n",
    "from pyspark.ml.feature import Tokenizer, RegexTokenizer\n",
    "from pyspark.sql.functions import col, udf\n",
    "from pyspark.sql.types import IntegerType\n",
    "from pyspark.ml.feature import StopWordsRemover\n",
    "## convert to word v review matrix \n",
    "from pyspark.ml.feature import HashingTF, IDF\n",
    "##Naive Bayes\n",
    "from pyspark.ml.classification import NaiveBayes, NaiveBayesModel\n",
    "from pyspark.ml.evaluation import MulticlassClassificationEvaluator\n",
    "from pyspark.mllib.evaluation import MultilabelMetrics,MulticlassMetrics"
   ]
  },
  {
   "cell_type": "code",
   "execution_count": 2,
   "metadata": {},
   "outputs": [],
   "source": [
    "conf = SparkConf().setAppName(\"test\").setMaster(\"*\")\n",
    "spark = SparkSession.builder.getOrCreate()"
   ]
  },
  {
   "cell_type": "code",
   "execution_count": 3,
   "metadata": {},
   "outputs": [],
   "source": [
    "review = spark.read.json('data/dataset/review.json')\n",
    "(review,spill) = review.randomSplit([0.40,0.60])\n",
    "review = review.select('user_id',col('stars').cast('int'),'business_id','text' )"
   ]
  },
  {
   "cell_type": "code",
   "execution_count": 4,
   "metadata": {},
   "outputs": [
    {
     "name": "stdout",
     "output_type": "stream",
     "text": [
      "+--------------------+-----+--------------------+--------------------+\n",
      "|             user_id|stars|         business_id|                text|\n",
      "+--------------------+-----+--------------------+--------------------+\n",
      "|HPtjvIrhzAUkKsiVk...|    3|--6MefnULPED_I942...|This restaurant i...|\n",
      "|FEg8v92qx3kK4Hu4T...|    4|--6MefnULPED_I942...|This is one of my...|\n",
      "|_5keMAmic7zzrnM5m...|    4|--7zmmkVg-IMGaXbu...|Nice small place ...|\n",
      "|lBfKHlgTgxjv1SL4Z...|    3|--8LPVSo5i0Oo61X0...|Dr. Purcell is go...|\n",
      "|ZPspeNuGDw5PYcu0m...|    2|--9QQLMTbFzLJ_oT-...|Went to this loca...|\n",
      "+--------------------+-----+--------------------+--------------------+\n",
      "only showing top 5 rows\n",
      "\n"
     ]
    }
   ],
   "source": [
    "review.show(5)"
   ]
  },
  {
   "cell_type": "code",
   "execution_count": 5,
   "metadata": {},
   "outputs": [],
   "source": [
    "def fix_ids(s):\n",
    "    return int(int(hashlib.sha1(s).hexdigest(), 16) % 179426083)\n",
    "\n",
    "fix_ids_udf = udf(fix_ids)\n",
    "\n",
    "def fix_decimal_values(s):\n",
    "    return round(s,2)\n",
    "\n",
    "fix_round_udf = udf(fix_decimal_values)\n",
    "\n",
    "def conv_to_int(v):\n",
    "    return int(v)\n",
    "\n",
    "to_int_udf = udf(conv_to_int)"
   ]
  },
  {
   "cell_type": "code",
   "execution_count": 6,
   "metadata": {
    "scrolled": false
   },
   "outputs": [
    {
     "name": "stdout",
     "output_type": "stream",
     "text": [
      "+--------------------+--------------------+--------------+--------------------+\n",
      "|         business_id|                name|          city|          categories|\n",
      "+--------------------+--------------------+--------------+--------------------+\n",
      "|FYWN1wneV18bWNgQj...|    Dental by Design|     Ahwatukee|[Dentists, Genera...|\n",
      "|He-G7vWjzVUysIKrf...| Stephen Szabo Salon|      McMurray|[Hair Stylists, H...|\n",
      "|KQPW8lFf1y5BT2Mxi...|Western Motor Veh...|       Phoenix|[Departments of M...|\n",
      "|8DShNS-LuFqpEWIp0...|    Sports Authority|         Tempe|[Sporting Goods, ...|\n",
      "|PfOCPjBrlQAnz__NX...|Brick House Taver...|Cuyahoga Falls|[American (New), ...|\n",
      "+--------------------+--------------------+--------------+--------------------+\n",
      "only showing top 5 rows\n",
      "\n"
     ]
    }
   ],
   "source": [
    "business = spark.read.json('data/dataset/business.json')\n",
    "business = business.select('business_id','name','city','categories')\n",
    "business.show(5)"
   ]
  },
  {
   "cell_type": "code",
   "execution_count": 7,
   "metadata": {
    "scrolled": false
   },
   "outputs": [
    {
     "name": "stdout",
     "output_type": "stream",
     "text": [
      "+--------------------+--------------------+-----+--------------------+--------------------+---------+--------------------+\n",
      "|         business_id|             user_id|stars|                text|                name|     city|          categories|\n",
      "+--------------------+--------------------+-----+--------------------+--------------------+---------+--------------------+\n",
      "|--9e1ONYQuAa-CB_R...|vtLGogUiDd1Xla-Rt...|    4|Looking for a goo...|Delmonico Steakhouse|Las Vegas|[Cajun/Creole, St...|\n",
      "|--9e1ONYQuAa-CB_R...|T98RxxU5UB5WL05yl...|    4|Service was great...|Delmonico Steakhouse|Las Vegas|[Cajun/Creole, St...|\n",
      "|--9e1ONYQuAa-CB_R...|et_GDGFfG2BFVkLzR...|    5|Being from Califo...|Delmonico Steakhouse|Las Vegas|[Cajun/Creole, St...|\n",
      "|--9e1ONYQuAa-CB_R...|aVOGlN9fZ-BXcbtj6...|    5|Truly Fantastic! ...|Delmonico Steakhouse|Las Vegas|[Cajun/Creole, St...|\n",
      "|--9e1ONYQuAa-CB_R...|mD-JAucjMeNnp50On...|    2|My wife and I cam...|Delmonico Steakhouse|Las Vegas|[Cajun/Creole, St...|\n",
      "+--------------------+--------------------+-----+--------------------+--------------------+---------+--------------------+\n",
      "only showing top 5 rows\n",
      "\n"
     ]
    }
   ],
   "source": [
    "df = review.join(business,'business_id')\n",
    "df.show(5)"
   ]
  },
  {
   "cell_type": "code",
   "execution_count": 10,
   "metadata": {},
   "outputs": [],
   "source": [
    "df= df.withColumn('userId',fix_ids_udf(df['user_id']).cast('int'))\n",
    "df= df.withColumn('businessId',fix_ids_udf(df['business_id']).cast('int'))"
   ]
  },
  {
   "cell_type": "code",
   "execution_count": 11,
   "metadata": {
    "scrolled": true
   },
   "outputs": [
    {
     "name": "stdout",
     "output_type": "stream",
     "text": [
      "+--------------------+--------------------+-----+--------------------+--------------------+---------+--------------------+---------+----------+\n",
      "|         business_id|             user_id|stars|                text|                name|     city|          categories|   userId|businessId|\n",
      "+--------------------+--------------------+-----+--------------------+--------------------+---------+--------------------+---------+----------+\n",
      "|--9e1ONYQuAa-CB_R...|vtLGogUiDd1Xla-Rt...|    4|Looking for a goo...|Delmonico Steakhouse|Las Vegas|[Cajun/Creole, St...|170488927|  65725733|\n",
      "|--9e1ONYQuAa-CB_R...|T98RxxU5UB5WL05yl...|    4|Service was great...|Delmonico Steakhouse|Las Vegas|[Cajun/Creole, St...|  1624445|  65725733|\n",
      "|--9e1ONYQuAa-CB_R...|et_GDGFfG2BFVkLzR...|    5|Being from Califo...|Delmonico Steakhouse|Las Vegas|[Cajun/Creole, St...| 62436065|  65725733|\n",
      "|--9e1ONYQuAa-CB_R...|aVOGlN9fZ-BXcbtj6...|    5|Truly Fantastic! ...|Delmonico Steakhouse|Las Vegas|[Cajun/Creole, St...| 25606357|  65725733|\n",
      "|--9e1ONYQuAa-CB_R...|mD-JAucjMeNnp50On...|    2|My wife and I cam...|Delmonico Steakhouse|Las Vegas|[Cajun/Creole, St...| 12076070|  65725733|\n",
      "|--9e1ONYQuAa-CB_R...|oFyOUOeGTRZhFPF9u...|    5|This is mine and ...|Delmonico Steakhouse|Las Vegas|[Cajun/Creole, St...| 52090707|  65725733|\n",
      "|--9e1ONYQuAa-CB_R...|tTifjrXlRrUme-4c0...|    5|Absolutely impres...|Delmonico Steakhouse|Las Vegas|[Cajun/Creole, St...| 30232171|  65725733|\n",
      "|--9e1ONYQuAa-CB_R...|C6kw0Rny7jZAGjTj0...|    5|We decided to giv...|Delmonico Steakhouse|Las Vegas|[Cajun/Creole, St...|  5094160|  65725733|\n",
      "|--9e1ONYQuAa-CB_R...|M6ceu8Yqi13TEEQ8X...|    3|(Jan/ 2006)\n",
      "\n",
      "Tuna...|Delmonico Steakhouse|Las Vegas|[Cajun/Creole, St...| 50076099|  65725733|\n",
      "|--9e1ONYQuAa-CB_R...|lnZAC2F0Qx_17YQqv...|    4|I went here for m...|Delmonico Steakhouse|Las Vegas|[Cajun/Creole, St...|141172525|  65725733|\n",
      "+--------------------+--------------------+-----+--------------------+--------------------+---------+--------------------+---------+----------+\n",
      "only showing top 10 rows\n",
      "\n"
     ]
    }
   ],
   "source": [
    "df.show(10)"
   ]
  },
  {
   "cell_type": "code",
   "execution_count": 12,
   "metadata": {
    "scrolled": true
   },
   "outputs": [],
   "source": [
    "df = df.select('userId','businessId',col('stars').alias('rating'),col('text').alias('comment'))"
   ]
  },
  {
   "cell_type": "code",
   "execution_count": 13,
   "metadata": {
    "scrolled": false
   },
   "outputs": [
    {
     "name": "stdout",
     "output_type": "stream",
     "text": [
      "+---------+----------+------+--------------------+\n",
      "|   userId|businessId|rating|             comment|\n",
      "+---------+----------+------+--------------------+\n",
      "| 76417945|  99011368|     3|This restaurant i...|\n",
      "| 16647810|  99011368|     4|This is one of my...|\n",
      "|118810687| 157675875|     4|Nice small place ...|\n",
      "|124068344|   3918020|     3|Dr. Purcell is go...|\n",
      "|  3200749|  69783790|     2|Went to this loca...|\n",
      "|170488927|  65725733|     4|Looking for a goo...|\n",
      "|  1624445|  65725733|     4|Service was great...|\n",
      "| 62436065|  65725733|     5|Being from Califo...|\n",
      "| 25606357|  65725733|     5|Truly Fantastic! ...|\n",
      "| 12076070|  65725733|     2|My wife and I cam...|\n",
      "+---------+----------+------+--------------------+\n",
      "only showing top 10 rows\n",
      "\n"
     ]
    }
   ],
   "source": [
    "df.show(10)"
   ]
  },
  {
   "cell_type": "markdown",
   "metadata": {},
   "source": [
    "## Tokenizing comments and Removing stop words"
   ]
  },
  {
   "cell_type": "code",
   "execution_count": 14,
   "metadata": {},
   "outputs": [],
   "source": [
    "countTokens = udf(lambda words: len(words), IntegerType())"
   ]
  },
  {
   "cell_type": "code",
   "execution_count": 15,
   "metadata": {
    "scrolled": true
   },
   "outputs": [
    {
     "name": "stdout",
     "output_type": "stream",
     "text": [
      "+--------------------+--------------------+------+\n",
      "|             comment|               words|tokens|\n",
      "+--------------------+--------------------+------+\n",
      "|This restaurant i...|[this, restaurant...|    43|\n",
      "|This is one of my...|[this, is, one, o...|    39|\n",
      "|Nice small place ...|[nice, small, pla...|    31|\n",
      "|Dr. Purcell is go...|[dr., purcell, is...|   144|\n",
      "|Went to this loca...|[went, to, this, ...|   210|\n",
      "|Looking for a goo...|[looking, for, a,...|   144|\n",
      "|Service was great...|[service, was, gr...|    75|\n",
      "|Being from Califo...|[being, from, cal...|    87|\n",
      "|Truly Fantastic! ...|[truly, fantastic...|    26|\n",
      "|My wife and I cam...|[my, wife, and, i...|   357|\n",
      "|This is mine and ...|[this, is, mine, ...|    59|\n",
      "|Absolutely impres...|[absolutely, impr...|    38|\n",
      "|We decided to giv...|[we, decided, to,...|   202|\n",
      "|(Jan/ 2006)\n",
      "\n",
      "Tuna...|[(jan/, 2006), , ...|    92|\n",
      "|I went here for m...|[i, went, here, f...|   137|\n",
      "|Great steak house...|[great, steak, ho...|    48|\n",
      "|We had early rese...|[we, had, early, ...|   370|\n",
      "|Arrived to be sea...|[arrived, to, be,...|    71|\n",
      "|My husband and I ...|[my, husband, and...|   171|\n",
      "|Today was my firs...|[today, was, my, ...|   101|\n",
      "+--------------------+--------------------+------+\n",
      "only showing top 20 rows\n",
      "\n"
     ]
    }
   ],
   "source": [
    "tokenizer = Tokenizer(inputCol=\"comment\", outputCol=\"words\")\n",
    "tokenized = tokenizer.transform(df)\n",
    "tokenized.select(\"comment\", \"words\").withColumn(\"tokens\", countTokens(col(\"words\"))).show()"
   ]
  },
  {
   "cell_type": "code",
   "execution_count": 16,
   "metadata": {
    "scrolled": true
   },
   "outputs": [
    {
     "name": "stdout",
     "output_type": "stream",
     "text": [
      "+--------------------+--------------------+--------------------+------+\n",
      "|             comment|               words|            filtered|tokens|\n",
      "+--------------------+--------------------+--------------------+------+\n",
      "|This restaurant i...|[this, restaurant...|[restaurant, famo...|    21|\n",
      "|This is one of my...|[this, is, one, o...|[one, top, 3, pla...|    23|\n",
      "|Nice small place ...|[nice, small, pla...|[nice, small, pla...|    17|\n",
      "|Dr. Purcell is go...|[dr., purcell, is...|[dr., purcell, go...|    66|\n",
      "|Went to this loca...|[went, to, this, ...|[went, location, ...|    92|\n",
      "|Looking for a goo...|[looking, for, a,...|[looking, good, s...|    71|\n",
      "|Service was great...|[service, was, gr...|[service, great.....|    42|\n",
      "|Being from Califo...|[being, from, cal...|[california, foie...|    45|\n",
      "|Truly Fantastic! ...|[truly, fantastic...|[truly, fantastic...|    18|\n",
      "|My wife and I cam...|[my, wife, and, i...|[wife, came, anni...|   188|\n",
      "|This is mine and ...|[this, is, mine, ...|[mine, fiancé's, ...|    31|\n",
      "|Absolutely impres...|[absolutely, impr...|[absolutely, impr...|    19|\n",
      "|We decided to giv...|[we, decided, to,...|[decided, give, d...|   100|\n",
      "|(Jan/ 2006)\n",
      "\n",
      "Tuna...|[(jan/, 2006), , ...|[(jan/, 2006), , ...|    51|\n",
      "|I went here for m...|[i, went, here, f...|[went, friend's, ...|    63|\n",
      "|Great steak house...|[great, steak, ho...|[great, steak, ho...|    25|\n",
      "|We had early rese...|[we, had, early, ...|[early, reservati...|   202|\n",
      "|Arrived to be sea...|[arrived, to, be,...|[arrived, seated,...|    40|\n",
      "|My husband and I ...|[my, husband, and...|[husband, ate, ye...|    98|\n",
      "|Today was my firs...|[today, was, my, ...|[today, first, ti...|    55|\n",
      "+--------------------+--------------------+--------------------+------+\n",
      "only showing top 20 rows\n",
      "\n"
     ]
    }
   ],
   "source": [
    "remover = StopWordsRemover(inputCol=\"words\", outputCol=\"filtered\")\n",
    "remover.transform(tokenized).select('comment','words','filtered').withColumn(\"tokens\", countTokens(col(\"filtered\"))).show()"
   ]
  },
  {
   "cell_type": "code",
   "execution_count": 17,
   "metadata": {},
   "outputs": [],
   "source": [
    "filtered = remover.transform(tokenized).select('userId','businessId','rating','comment','filtered').withColumn(\"tokens\", countTokens(col(\"filtered\")))"
   ]
  },
  {
   "cell_type": "code",
   "execution_count": 18,
   "metadata": {
    "scrolled": true
   },
   "outputs": [
    {
     "name": "stdout",
     "output_type": "stream",
     "text": [
      "+---------+----------+------+--------------------+--------------------+------+\n",
      "|   userId|businessId|rating|             comment|            filtered|tokens|\n",
      "+---------+----------+------+--------------------+--------------------+------+\n",
      "| 76417945|  99011368|     3|This restaurant i...|[restaurant, famo...|    21|\n",
      "| 16647810|  99011368|     4|This is one of my...|[one, top, 3, pla...|    23|\n",
      "|118810687| 157675875|     4|Nice small place ...|[nice, small, pla...|    17|\n",
      "|124068344|   3918020|     3|Dr. Purcell is go...|[dr., purcell, go...|    66|\n",
      "|  3200749|  69783790|     2|Went to this loca...|[went, location, ...|    92|\n",
      "|170488927|  65725733|     4|Looking for a goo...|[looking, good, s...|    71|\n",
      "|  1624445|  65725733|     4|Service was great...|[service, great.....|    42|\n",
      "| 62436065|  65725733|     5|Being from Califo...|[california, foie...|    45|\n",
      "| 25606357|  65725733|     5|Truly Fantastic! ...|[truly, fantastic...|    18|\n",
      "| 12076070|  65725733|     2|My wife and I cam...|[wife, came, anni...|   188|\n",
      "| 52090707|  65725733|     5|This is mine and ...|[mine, fiancé's, ...|    31|\n",
      "| 30232171|  65725733|     5|Absolutely impres...|[absolutely, impr...|    19|\n",
      "|  5094160|  65725733|     5|We decided to giv...|[decided, give, d...|   100|\n",
      "| 50076099|  65725733|     3|(Jan/ 2006)\n",
      "\n",
      "Tuna...|[(jan/, 2006), , ...|    51|\n",
      "|141172525|  65725733|     4|I went here for m...|[went, friend's, ...|    63|\n",
      "|110770063|  65725733|     4|Great steak house...|[great, steak, ho...|    25|\n",
      "|154959428|  65725733|     5|We had early rese...|[early, reservati...|   202|\n",
      "|134489103|  53156974|     2|Arrived to be sea...|[arrived, seated,...|    40|\n",
      "|  2388515|  53156974|     1|My husband and I ...|[husband, ate, ye...|    98|\n",
      "| 83928958|  53156974|     5|Today was my firs...|[today, first, ti...|    55|\n",
      "+---------+----------+------+--------------------+--------------------+------+\n",
      "only showing top 20 rows\n",
      "\n"
     ]
    }
   ],
   "source": [
    "filtered.show()"
   ]
  },
  {
   "cell_type": "markdown",
   "metadata": {},
   "source": [
    "## making word v comment matrix"
   ]
  },
  {
   "cell_type": "code",
   "execution_count": 19,
   "metadata": {
    "scrolled": true
   },
   "outputs": [],
   "source": [
    "hashingTF = HashingTF(inputCol=\"filtered\", outputCol=\"rawFeatures\")\n",
    "idf = IDF(inputCol=\"rawFeatures\", outputCol=\"features\")\n",
    "\n",
    "#hashingTF = HashingTF()\n",
    "tf = hashingTF.transform(filtered)\n",
    "\n",
    "# While applying HashingTF only needs a single pass to the data, applying IDF needs two passes:\n",
    "# First to compute the IDF vector and second to scale the term frequencies by IDF.\n",
    "#tf.cache()\n",
    "idf = idf.fit(tf)\n",
    "tfidf = idf.transform(tf)"
   ]
  },
  {
   "cell_type": "code",
   "execution_count": 20,
   "metadata": {
    "scrolled": true
   },
   "outputs": [
    {
     "name": "stdout",
     "output_type": "stream",
     "text": [
      "+---------+----------+--------------------+--------------------+--------------------+-----+\n",
      "|   userId|businessId|             comment|            filtered|            features|label|\n",
      "+---------+----------+--------------------+--------------------+--------------------+-----+\n",
      "| 76417945|  99011368|This restaurant i...|[restaurant, famo...|(262144,[34565,37...|    3|\n",
      "| 16647810|  99011368|This is one of my...|[one, top, 3, pla...|(262144,[6308,680...|    4|\n",
      "|118810687| 157675875|Nice small place ...|[nice, small, pla...|(262144,[22346,32...|    4|\n",
      "|124068344|   3918020|Dr. Purcell is go...|[dr., purcell, go...|(262144,[666,1836...|    3|\n",
      "|  3200749|  69783790|Went to this loca...|[went, location, ...|(262144,[1536,850...|    2|\n",
      "+---------+----------+--------------------+--------------------+--------------------+-----+\n",
      "only showing top 5 rows\n",
      "\n"
     ]
    }
   ],
   "source": [
    "data = tfidf.select('userId','businessId','comment','filtered','features',col('rating').alias('label'))\n",
    "data.show(5)"
   ]
  },
  {
   "cell_type": "code",
   "execution_count": 21,
   "metadata": {
    "scrolled": false
   },
   "outputs": [
    {
     "name": "stdout",
     "output_type": "stream",
     "text": [
      "+--------+----------+--------------------+--------------------+--------------------+-----+\n",
      "|  userId|businessId|             comment|            filtered|            features|label|\n",
      "+--------+----------+--------------------+--------------------+--------------------+-----+\n",
      "|62436065|  65725733|Being from Califo...|[california, foie...|(262144,[2325,791...|    1|\n",
      "|25606357|  65725733|Truly Fantastic! ...|[truly, fantastic...|(262144,[991,1199...|    1|\n",
      "|52090707|  65725733|This is mine and ...|[mine, fiancé's, ...|(262144,[3358,345...|    1|\n",
      "|30232171|  65725733|Absolutely impres...|[absolutely, impr...|(262144,[35263,35...|    1|\n",
      "| 5094160|  65725733|We decided to giv...|[decided, give, d...|(262144,[5232,130...|    1|\n",
      "+--------+----------+--------------------+--------------------+--------------------+-----+\n",
      "only showing top 5 rows\n",
      "\n"
     ]
    }
   ],
   "source": [
    "def c_zero_one(n):\n",
    "    if n==1:\n",
    "        return 0\n",
    "    elif n == 5:\n",
    "        return 1\n",
    "\n",
    "\n",
    "conv_zero_one = udf(c_zero_one)\n",
    "\n",
    "good_bad = data.filter( (col('label') == 1) | (col('label') == 5) ).withColumn('label',conv_zero_one(col('label')).cast('int'))\n",
    "good_bad.show(5)"
   ]
  },
  {
   "cell_type": "code",
   "execution_count": 22,
   "metadata": {},
   "outputs": [],
   "source": [
    "(training,test) = good_bad.randomSplit([0.80,.20])"
   ]
  },
  {
   "cell_type": "code",
   "execution_count": 23,
   "metadata": {
    "scrolled": true
   },
   "outputs": [],
   "source": [
    "#model = NaiveBayes.train(training, 1.0)\n",
    "nb = NaiveBayes(smoothing=1)\n",
    "model = nb.fit(training)"
   ]
  },
  {
   "cell_type": "markdown",
   "metadata": {},
   "source": [
    "# Predictions"
   ]
  },
  {
   "cell_type": "markdown",
   "metadata": {},
   "source": [
    "## Predictions on polarized ratings "
   ]
  },
  {
   "cell_type": "code",
   "execution_count": 24,
   "metadata": {},
   "outputs": [],
   "source": [
    "predictions = model.transform(test)\n"
   ]
  },
  {
   "cell_type": "code",
   "execution_count": 25,
   "metadata": {},
   "outputs": [
    {
     "name": "stdout",
     "output_type": "stream",
     "text": [
      "+--------------------+--------------------+-----+----------+\n",
      "|             comment|            filtered|label|prediction|\n",
      "+--------------------+--------------------+-----+----------+\n",
      "|Well I hate to gi...|[well, hate, give...|    0|       0.0|\n",
      "|Paid $10 for 2 hr...|[paid, $10, 2, hr...|    1|       0.0|\n",
      "|Horrible experien...|[horrible, experi...|    0|       0.0|\n",
      "|Horrible customer...|[horrible, custom...|    0|       0.0|\n",
      "|DO NOT COME HERE....|[come, here., , ,...|    0|       0.0|\n",
      "|Ordered two bacon...|[ordered, two, ba...|    0|       0.0|\n",
      "|Horrible food, sl...|[horrible, food,,...|    0|       0.0|\n",
      "|This place is awe...|[place, awesome.,...|    1|       0.0|\n",
      "|I used this shop ...|[used, shop, bolt...|    0|       0.0|\n",
      "|I have came to Na...|[came, nail, club...|    0|       0.0|\n",
      "+--------------------+--------------------+-----+----------+\n",
      "only showing top 10 rows\n",
      "\n"
     ]
    }
   ],
   "source": [
    "predictions.filter(predictions['prediction'] == 0).select('comment','filtered','label','prediction').show(10)"
   ]
  },
  {
   "cell_type": "code",
   "execution_count": 26,
   "metadata": {},
   "outputs": [
    {
     "name": "stdout",
     "output_type": "stream",
     "text": [
      "+--------------------+--------------------+-----+----------+\n",
      "|             comment|            filtered|label|prediction|\n",
      "+--------------------+--------------------+-----+----------+\n",
      "|I Moved in Skepti...|[moved, skeptical...|    1|       1.0|\n",
      "|I 've worked here...|['ve, worked, yea...|    1|       1.0|\n",
      "|Wow,love this new...|[wow,love, new, p...|    1|       1.0|\n",
      "|In a word - AMAZI...|[word, -, amazing...|    1|       1.0|\n",
      "|Great food. I hig...|[great, food., hi...|    1|       1.0|\n",
      "|Absolutely delici...|[absolutely, deli...|    1|       1.0|\n",
      "|Capital Grill is ...|[capital, grill, ...|    1|       1.0|\n",
      "|Well what can I s...|[well, say,, plac...|    1|       1.0|\n",
      "|This place is ama...|[place, amazing.,...|    1|       1.0|\n",
      "|Went here 2 days ...|[went, 2, days, a...|    1|       1.0|\n",
      "+--------------------+--------------------+-----+----------+\n",
      "only showing top 10 rows\n",
      "\n"
     ]
    }
   ],
   "source": [
    "predictions.filter(predictions['prediction'] == 1).select('comment','filtered','label','prediction').show(10)"
   ]
  },
  {
   "cell_type": "code",
   "execution_count": 27,
   "metadata": {},
   "outputs": [
    {
     "name": "stdout",
     "output_type": "stream",
     "text": [
      "+-----------------------------------------------------------------------------------------------------------------------------------------------------------------------------------------------------------------------------------------------------------------------------------------------------------------------------------------------------------------------------------------------------------------------------------------------------------------------------------------------------------------------------------------------------------------------------------------------------------------------------------------------------------------------------------------------------------------------------------------------------------------------------------------------------------------------------------------------------------------------------------------------------------------------------------------------------------------------------------------------------------------------------------------------------------------------------------------------------------------------------------------------------------------------------------------------------------------------------------------------------------------------------------------------------------------------------------------------------------------------------------------------------------------------------------------------------------------------------------------------------------------------------------------------------------------------------------------------------------------------------------------------------------------------------------------------------------------------------------------------------------------------------------------------------------------------------------------------------------------------------------------------------------------------------------------------------------------------------------------------------------------------------------------------------------------------------------------------------------------------------------------------------------------------------------------------------------------------------------------------------------------------------------------------------------------------------------------------------------------------------------------------------------------------------------------------------------------------------------------------------------------------------------------------------------------------------------------------------------------------------------------------------------------------------------------------------------------------------------------------------------------------------------------------------------------------------------------------------------------------------------------------------------------------------------------------------------------------------------------------------------------------------------------------------------------------------------------------------------------------------------------------------------------------------------------------------------------------------------------------------------------------------------------------+\n",
      "|comment                                                                                                                                                                                                                                                                                                                                                                                                                                                                                                                                                                                                                                                                                                                                                                                                                                                                                                                                                                                                                                                                                                                                                                                                                                                                                                                                                                                                                                                                                                                                                                                                                                                                                                                                                                                                                                                                                                                                                                                                                                                                                                                                                                                                                                                                                                                                                                                                                                                                                                                                                                                                                                                                                                                                                                                                                                                                                                                                                                                                                                                                                                                                                                                                                                                                                        |\n",
      "+-----------------------------------------------------------------------------------------------------------------------------------------------------------------------------------------------------------------------------------------------------------------------------------------------------------------------------------------------------------------------------------------------------------------------------------------------------------------------------------------------------------------------------------------------------------------------------------------------------------------------------------------------------------------------------------------------------------------------------------------------------------------------------------------------------------------------------------------------------------------------------------------------------------------------------------------------------------------------------------------------------------------------------------------------------------------------------------------------------------------------------------------------------------------------------------------------------------------------------------------------------------------------------------------------------------------------------------------------------------------------------------------------------------------------------------------------------------------------------------------------------------------------------------------------------------------------------------------------------------------------------------------------------------------------------------------------------------------------------------------------------------------------------------------------------------------------------------------------------------------------------------------------------------------------------------------------------------------------------------------------------------------------------------------------------------------------------------------------------------------------------------------------------------------------------------------------------------------------------------------------------------------------------------------------------------------------------------------------------------------------------------------------------------------------------------------------------------------------------------------------------------------------------------------------------------------------------------------------------------------------------------------------------------------------------------------------------------------------------------------------------------------------------------------------------------------------------------------------------------------------------------------------------------------------------------------------------------------------------------------------------------------------------------------------------------------------------------------------------------------------------------------------------------------------------------------------------------------------------------------------------------------------------------------------+\n",
      "|Well I hate to give a place one Star...I like the pizza,but twice when we picked it up the guy cooking it had a cigarette hanging out of his mouth,and was talking as the ashes fell down on the pizza!!!!\"\n",
      "The place is dirty. Sorry                                                                                                                                                                                                                                                                                                                                                                                                                                                                                                                                                                                                                                                                                                                                                                                                                                                                                                                                                                                                                                                                                                                                                                                                                                                                                                                                                                                                                                                                                                                                                                                                                                                                                                                                                                                                                                                                                                                                                                                                                                                                                                                                                                                                                                                                                                                                                                                                                                                                                                                                                                                                                                                                                                                                                                                                                                                                                                                                                                                                                                                          |\n",
      "|Paid $10 for 2 hrs of skating with ice skates included!!! Lots of fun..totally recommend it:)                                                                                                                                                                                                                                                                                                                                                                                                                                                                                                                                                                                                                                                                                                                                                                                                                                                                                                                                                                                                                                                                                                                                                                                                                                                                                                                                                                                                                                                                                                                                                                                                                                                                                                                                                                                                                                                                                                                                                                                                                                                                                                                                                                                                                                                                                                                                                                                                                                                                                                                                                                                                                                                                                                                                                                                                                                                                                                                                                                                                                                                                                                                                                                                                  |\n",
      "|Horrible experience..sat on the patio was constantly being ignored we had to wave down the waiter (it was a slow day), he forgot to put our appetizer order in so when our food arrived we asked him about the appetizer and said sorry he was going to check on it which was useless already whats the point of an appetizer if you are going to get it after your entrée,  then when I received my chicken sandwich it was so chewy like gum and the middle wasn't even cooked I just left it alone and didn't bother to say anything I was already over the place and just wanted to leave.                                                                                                                                                                                                                                                                                                                                                                                                                                                                                                                                                                                                                                                                                                                                                                                                                                                                                                                                                                                                                                                                                                                                                                                                                                                                                                                                                                                                                                                                                                                                                                                                                                                                                                                                                                                                                                                                                                                                                                                                                                                                                                                                                                                                                                                                                                                                                                                                                                                                                                                                                                                                                                                                                                 |\n",
      "|Horrible customer service and indifferent sales associates. They don't bother to tell you the exchange time is 10 days not 30 like gucci. Com where u normally shop. Only wanted to exchange for color.                                                                                                                                                                                                                                                                                                                                                                                                                                                                                                                                                                                                                                                                                                                                                                                                                                                                                                                                                                                                                                                                                                                                                                                                                                                                                                                                                                                                                                                                                                                                                                                                                                                                                                                                                                                                                                                                                                                                                                                                                                                                                                                                                                                                                                                                                                                                                                                                                                                                                                                                                                                                                                                                                                                                                                                                                                                                                                                                                                                                                                                                                        |\n",
      "|DO NOT COME HERE. \n",
      "\n",
      "I found this place from ZocDoc, which actually seemed like a decent location to go. I showed up half an hour early, to fill out paperwork and make sure everything was squared away. The receptionist did not greet me, and was chatting on her personal cell, and made it seem like I was bothering her when I asked to check in. After filling out paperwork, I waited for 45 minutes before being shown to a room. \n",
      "\n",
      "The office seems very old and creepy. Each room had a floor fan and a beat up desk. One of the hallways didn't even have its lights on! Just completely dark, very creepy. \n",
      "\n",
      "I waited in the room for an HOUR before finally getting up and searching for someone. I couldn't find any nurse or doctor (which is very strange), and even went into their break room! The place just looked completely deserted. \n",
      "\n",
      "Finally I found someone who informed me that the doctor would \"be right with me\". I had other errands to run, so I packed my things and was walking out the door when the doctor came running up to me. She informed me that she had another patient to see before me, and to wait 15 minutes. (At this point I was very upset and frustrated). I told her that I would not wait, since I had been waiting already an hour in the patient room. She asked me to wait a moment, that she would tell the other patient to wait and then she could help me.\n",
      "\n",
      "She was knowledgable, and her beside manner was good, but it's not worth the wait. She examined me, wrote me a prescription (had to wait another 20 minutes for this), and I was finally free to go. Oh, and that receptionist was still on her phone when I was waiting in the lobby. \n",
      "\n",
      "Moral of the story; don't trust ZocDoc with their recommendations. I should've checked Yelp to see what people had to say. This could've all been avoided if I had seen all these reviews first! And don't go to this practice!!! THE MOST unprofessional and unpleasant experience I've had the displeasure of living through.                                                                                                                                                                                                                                                                                                                                                                                                                                                                                                                                                                                                                                                                                                                                                                                                                                                                                                                                                                                                                                                                                                                                                                                                                                               |\n",
      "|Ordered two bacon cheeseburger but got one bacon cheeseburger and one cheeseburger instead. I had made sure everything was in the bag before leaving but much to my surprise one of them was incorrect. Please double check to see if the order is right, it's so annoying on the customer's end trying to figure out if we want to go make a trip back and have you guys change it or just suck it up. Either way it's really bothersome which would have been understandable if it was a complicated order but it was possibly the simplest thing anyone could order                                                                                                                                                                                                                                                                                                                                                                                                                                                                                                                                                                                                                                                                                                                                                                                                                                                                                                                                                                                                                                                                                                                                                                                                                                                                                                                                                                                                                                                                                                                                                                                                                                                                                                                                                                                                                                                                                                                                                                                                                                                                                                                                                                                                                                                                                                                                                                                                                                                                                                                                                                                                                                                                                                                         |\n",
      "|Horrible food, slow, over priced and rude! No thank you, go to cheesecake next door and avoid the middle life crisis crew.                                                                                                                                                                                                                                                                                                                                                                                                                                                                                                                                                                                                                                                                                                                                                                                                                                                                                                                                                                                                                                                                                                                                                                                                                                                                                                                                                                                                                                                                                                                                                                                                                                                                                                                                                                                                                                                                                                                                                                                                                                                                                                                                                                                                                                                                                                                                                                                                                                                                                                                                                                                                                                                                                                                                                                                                                                                                                                                                                                                                                                                                                                                                                                     |\n",
      "|This place is awesome. Joe the Manager is a great man he is so helpful and I highly recommend this place to anyone who is looking for a place that is not out to nickel and dime you. Before taking our vehicles to them, we called around to other places first. Some of them had really bad attitudes. Joe at Goodyear went above and beyond to help us out. We will definitely go back to this Goodyear on Sahara. Nick is great too. These guys know what they are doing and are not like the other places that are dishonest and try to cheat you. Ask for Joe when you call, he will take care of you.                                                                                                                                                                                                                                                                                                                                                                                                                                                                                                                                                                                                                                                                                                                                                                                                                                                                                                                                                                                                                                                                                                                                                                                                                                                                                                                                                                                                                                                                                                                                                                                                                                                                                                                                                                                                                                                                                                                                                                                                                                                                                                                                                                                                                                                                                                                                                                                                                                                                                                                                                                                                                                                                                   |\n",
      "|I used this shop to bolt on a new set of snow tires on wheels.  Simple job, but they managed to lose my business forever.  It started with lackluster customer service.  They failed to provide me with plastic bags for the old wheels, forcing me to load dirty, wet wheels into my trunk.  Second, they refused to load the wheels.  They also had aa hidden fee they neglected to tell me about and were utterly indifferent to the pathetic quality of their shop.  Oh, last but not least, they gave me the lugnuts in an open envelope, stating they had nothing else.  The manager helpfully suggested I find a ziplock at home.  Instead, I'll look high and low for another shop when I need to put my summer tires back on.                                                                                                                                                                                                                                                                                                                                                                                                                                                                                                                                                                                                                                                                                                                                                                                                                                                                                                                                                                                                                                                                                                                                                                                                                                                                                                                                                                                                                                                                                                                                                                                                                                                                                                                                                                                                                                                                                                                                                                                                                                                                                                                                                                                                                                                                                                                                                                                                                                                                                                                                                         |\n",
      "|I have came to Nail Club several times in the past 3 years. I have normally not had any issues until today. I seen Tong or Thang I believe is her name. Tiny younger asian woman. She did my nails for the first time coffin. I have always gotten square shaped nails because that is the shape I've always gotten and am used to. However, I wanted to try something new. I got the coffin nails and then the next day I decided they weren't for me. I then came back and Tong was not there so another lady cut and filed them to make them more square. She had told me Tong can fix them more if I want to come back tomorrow which would be the 3rd time I came back. So today I come in and nobody's in the salon except one customer. The two ladies were sitting in pedicure chairs on their phones and Tong was the only one working. They told me to wait a little and she will do mine. I waited a few minutes then she calls me over after finishing the lady she was working on. I told her they were super sharp and I could poke my eye out. I mean, they were extremely sharp! I told her I'd like them square again. She started to argue and tell me I have to do round and that's not what I want. I've never done round and I don't like that. I asked for square. I've had square many times that weren't sharp like that. She said because I went from coffin to square they are sharp. But I know that you can file them down to be less sharp and use the buffer or drill. She asked me what I want her to do? I said I would like square nails that are filed down. I mean she's the nail tech and should know! She just continued to be super rude and argue with me. I told her this shouldn't be a big deal. I'm a regular too and come in every 2 weeks and this was completely unacceptable. \n",
      "\n",
      "I also had told her I realized you charged me more for coffin nails which I didn't even know costed more because I've never gotten them. This was my FIRST time and she knew it because I've been going to her consistently usually every 2 weeks. She blamed me saying I didn't ask the price. I didn't know I had to ask because i didn't think it would be more. A good salon will at least say \"hey, this is gonna cost $5 more\". She failed to let me know this. All she told me the day I got them was its $70. She didn't mention they costed more so I figured it was for my pedi and design. So anyways, after filing my nails they were STILL too sharp! I just ended up leaving because of how unprofessional and rude she was! I do not recommend this place anymore. This used to be my favorite place but this lady ruined it for me. Being rude in front of another customer to me and blaming me for her not informing me of stuff and not even fixing my nails. I ended up going to another salon who buffed them and now they're no longer sharp. She just didn't care or put effort into it. Also, the ladies in the salon sitting in the pedi chair were giving me dirty looks and talking in Vietnamese (probably about me). Don't waste your time or money! There's so many nail salons in Phoenix. They aren't the only ones. They don't even have comfortable pedi chairs and the massager never works. There's better places out there.|\n",
      "|My daughter went to the younger toddler room for 3-4 days. Looks like they don't want to work on babies who have any separation anxiety or those who cry because they have 12 other kids to handle. Cant believe how can anyone be so cold around kids as they are. One out of the two teachers never remotely attempted to do anything to calm my daughter.. Guess why.. Because \" whatever i do she will still cry after you drop her and leave\" .. So why even bother.                                                                                                                                                                                                                                                                                                                                                                                                                                                                                                                                                                                                                                                                                                                                                                                                                                                                                                                                                                                                                                                                                                                                                                                                                                                                                                                                                                                                                                                                                                                                                                                                                                                                                                                                                                                                                                                                                                                                                                                                                                                                                                                                                                                                                                                                                                                                                                                                                                                                                                                                                                                                                                                                                                                                                                                                                      |\n",
      "|They are super slow with service. Few people just sitting or standing around doing nothing. One has a trainee badge so at least there is that.                                                                                                                                                                                                                                                                                                                                                                                                                                                                                                                                                                                                                                                                                                                                                                                                                                                                                                                                                                                                                                                                                                                                                                                                                                                                                                                                                                                                                                                                                                                                                                                                                                                                                                                                                                                                                                                                                                                                                                                                                                                                                                                                                                                                                                                                                                                                                                                                                                                                                                                                                                                                                                                                                                                                                                                                                                                                                                                                                                                                                                                                                                                                                 |\n",
      "|Never again.  An hour waiting in line...just to get to the reservation counter; this caused a 40+ minute delay.  Staff is inattentive in their offices, letting people cut in line, etc.  This place needs a management overhaul and customer service skills.  We were scheduled to fly at 9pm and didn't board a helicopter til 10:45pm.  Unacceptable!  Thanks for wasting mine and about 40+ customers time.   DON'T USE THIS COMPANY!                                                                                                                                                                                                                                                                                                                                                                                                                                                                                                                                                                                                                                                                                                                                                                                                                                                                                                                                                                                                                                                                                                                                                                                                                                                                                                                                                                                                                                                                                                                                                                                                                                                                                                                                                                                                                                                                                                                                                                                                                                                                                                                                                                                                                                                                                                                                                                                                                                                                                                                                                                                                                                                                                                                                                                                                                                                      |\n",
      "|I didn't know Facebook was a form of ID. The bouncer would not let my friend in because she didn't have a Facebook. He then proceeded to call us both bitches. So professional.                                                                                                                                                                                                                                                                                                                                                                                                                                                                                                                                                                                                                                                                                                                                                                                                                                                                                                                                                                                                                                                                                                                                                                                                                                                                                                                                                                                                                                                                                                                                                                                                                                                                                                                                                                                                                                                                                                                                                                                                                                                                                                                                                                                                                                                                                                                                                                                                                                                                                                                                                                                                                                                                                                                                                                                                                                                                                                                                                                                                                                                                                                                |\n",
      "|It's been a few months since my last visit, and this will definitely be my last time ever.\n",
      "\n",
      "First of all, don't offer a call ahead and pick up service if your employees are so fucking lazy and stoned that they can not hang the phone up right. I called 10 times with a busy time in a span of 10 minutes. Are you kidding me?! \n",
      "\n",
      "I get there and tell the employee I tried to call to place a order for pick up but can not because once again your phone is off the hook, he looks at me picks the phone up and sets it back and says \" that's weird \" . No I'm sorry no nothing\n",
      "\n",
      "I order a HOT bobby and a Italian sausage and NOW I have to sit in this establishment for 30 fucking minutes ! On top of it people who came in after me got my food before me! Of course I get my bobby and it's NOT hot, I ask it to be put in a oven and they wrap it tin foil and set it on the grill. I fucking can't with this establishment. \n",
      "\n",
      "\n",
      "The only good employee was the young girl working today! The others are completely fucking worthless. The guy you have working the counter has a set speed of -1 and no urgency to get anything done in a timely matter no personality no NOTHING. I am so fucking done with this establishment, it needs to be shut DOWN. Waste of space. NO reason with two people in front of me that I should have sat there for 45 minutes waiting for 2 sandwiches . And it all could have been avoided if your employees hung the fucking phone up or management bought new phones. Corporate will be hearing from me.                                                                                                                                                                                                                                                                                                                                                                                                                                                                                                                                                                                                                                                                                                                                                                                                                                                                                                                                                                                                                                                                                                                                                                                                                                                                                                                                                                                                                                                                                                                                                                                                                                                                                                                                    |\n",
      "|My friend recommended we try this place out, and since I haven't been here in a few years (and have completely forgotten my experience since), why not! \n",
      "\n",
      "Then I realized why I haven't been back; it isn't very good. It's a very average place. Nothing in the menu stood out to me and the flavours of the sushi/sashimi or cooked dishes were nothing special. The beef sashimi was decent, some of their torched and pressed sushi was good, and their scallops were interesting too. \n",
      "\n",
      "However, a few pieces of the salmon sashimi were dry (how is this even possible) and the sashimi had almost a \"film\" on top of it....it was gross, I had to spit it out. I love ayce and I love feeling stuffed, but for the first time I felt SICK every time I tried to consume another piece of sushi/sashimi. The quality just isn't good, and I was unsure if everything I was eating was fresh (what was that thin film doing there??!!?). My stomach naturally wanted to reject the food. \n",
      "\n",
      "This sushi place is approx. $3 cheaper than those \"higher end\" AYCE sushi places (it's $25.99 on weekdays). So understandably, the selection will not be as vast (desserts are just ice cream and some pudding), and maybe you can't expect the quality to be as great. But I just felt weird and was grossed out by the food at the end. Maybe I'll give this place another chance......but I'll wait another few years.                                                                                                                                                                                                                                                                                                                                                                                                                                                                                                                                                                                                                                                                                                                                                                                                                                                                                                                                                                                                                                                                                                                                                                                                                                                                                                                                                                                                                                                                                                                                                                                                                                                                                                                                                                                                                                                                      |\n",
      "|Gross!! I stopped by on my way to work. I order sesame chicken with shrimp fried rice and it was AWFUL!! The chicken was extremely crispy. The rice was flavorless. I didn't bite the egg roll. I didn't finish my food. I threw the entire box away. And not to mention they have terrible customer service                                                                                                                                                                                                                                                                                                                                                                                                                                                                                                                                                                                                                                                                                                                                                                                                                                                                                                                                                                                                                                                                                                                                                                                                                                                                                                                                                                                                                                                                                                                                                                                                                                                                                                                                                                                                                                                                                                                                                                                                                                                                                                                                                                                                                                                                                                                                                                                                                                                                                                                                                                                                                                                                                                                                                                                                                                                                                                                                                                                   |\n",
      "|Nice People \n",
      "I used camelback moving for the move of our home. The guys moved quickly without damaging anything. They were done before we knew it! Would recommend and use again.                                                                                                                                                                                                                                                                                                                                                                                                                                                                                                                                                                                                                                                                                                                                                                                                                                                                                                                                                                                                                                                                                                                                                                                                                                                                                                                                                                                                                                                                                                                                                                                                                                                                                                                                                                                                                                                                                                                                                                                                                                                                                                                                                                                                                                                                                                                                                                                                                                                                                                                                                                                                                                                                                                                                                                                                                                                                                                                                                                                                                                                                                                              |\n",
      "|I took my dollhouse, which was a family heirloom, to Ruben 3 months ago to be fixed and restored for a Christmas gift for my family. He waited until the last day that he promised, December 15, to start the job. Not only did he not fix it but he managed to ruin the dollhouse, making the original issue that it was taken to him for worse. When I picked it up from him he actually told me he has a bad habit of making promises in which he cannot fulfill. Not only has this ruined the gift that I planned to present to my family for the holidays, but I now have to find someone who can fix the mess that this woodcrafter has created. If 3 months was not enough time for this woodcraftsman to do a job, there are some real issues. I absolutely would not recommend this business. For 3 months he had nothing but excuses and now has caused a lot of problems for me. Extremely sad.                                                                                                                                                                                                                                                                                                                                                                                                                                                                                                                                                                                                                                                                                                                                                                                                                                                                                                                                                                                                                                                                                                                                                                                                                                                                                                                                                                                                                                                                                                                                                                                                                                                                                                                                                                                                                                                                                                                                                                                                                                                                                                                                                                                                                                                                                                                                                                                     |\n",
      "|I'm a food critic journalist In tour in the USA from Italy for a book I'm writing about the culinary experiences around the world.\n",
      "I only have one thing to say about this unfortunate accident that forced me to meet somebody in this disgusting place.\n",
      "Who was the criminal that put the word restaurant to this pile of junk??                                                                                                                                                                                                                                                                                                                                                                                                                                                                                                                                                                                                                                                                                                                                                                                                                                                                                                                                                                                                                                                                                                                                                                                                                                                                                                                                                                                                                                                                                                                                                                                                                                                                                                                                                                                                                                                                                                                                                                                                                                                                                                                                                                                                                                                                                                                                                                                                                                                                                                                                                                                                                                                                                                                                                                                                                                                                                                                                                             |\n",
      "+-----------------------------------------------------------------------------------------------------------------------------------------------------------------------------------------------------------------------------------------------------------------------------------------------------------------------------------------------------------------------------------------------------------------------------------------------------------------------------------------------------------------------------------------------------------------------------------------------------------------------------------------------------------------------------------------------------------------------------------------------------------------------------------------------------------------------------------------------------------------------------------------------------------------------------------------------------------------------------------------------------------------------------------------------------------------------------------------------------------------------------------------------------------------------------------------------------------------------------------------------------------------------------------------------------------------------------------------------------------------------------------------------------------------------------------------------------------------------------------------------------------------------------------------------------------------------------------------------------------------------------------------------------------------------------------------------------------------------------------------------------------------------------------------------------------------------------------------------------------------------------------------------------------------------------------------------------------------------------------------------------------------------------------------------------------------------------------------------------------------------------------------------------------------------------------------------------------------------------------------------------------------------------------------------------------------------------------------------------------------------------------------------------------------------------------------------------------------------------------------------------------------------------------------------------------------------------------------------------------------------------------------------------------------------------------------------------------------------------------------------------------------------------------------------------------------------------------------------------------------------------------------------------------------------------------------------------------------------------------------------------------------------------------------------------------------------------------------------------------------------------------------------------------------------------------------------------------------------------------------------------------------------------------------------+\n",
      "only showing top 20 rows\n",
      "\n"
     ]
    }
   ],
   "source": [
    "predictions.filter(predictions['prediction'] == 0).select('comment').show(truncate=False)"
   ]
  },
  {
   "cell_type": "code",
   "execution_count": 28,
   "metadata": {},
   "outputs": [
    {
     "data": {
      "text/plain": [
       "0.9301222654134694"
      ]
     },
     "execution_count": 28,
     "metadata": {},
     "output_type": "execute_result"
    }
   ],
   "source": [
    "evaluator = MulticlassClassificationEvaluator(predictionCol=\"prediction\")\n",
    "evaluator.evaluate(predictions)"
   ]
  },
  {
   "cell_type": "markdown",
   "metadata": {},
   "source": [
    "### precision, recall, f1score"
   ]
  },
  {
   "cell_type": "code",
   "execution_count": 122,
   "metadata": {},
   "outputs": [],
   "source": [
    "metrics_rdd = predictions.select(col('label').cast('float'),col('prediction').cast('float')).rdd"
   ]
  },
  {
   "cell_type": "code",
   "execution_count": 123,
   "metadata": {},
   "outputs": [],
   "source": [
    "metrics = MulticlassMetrics(metrics_rdd)"
   ]
  },
  {
   "cell_type": "markdown",
   "metadata": {},
   "source": [
    "#### precision, recall, f1score for positve reviews"
   ]
  },
  {
   "cell_type": "code",
   "execution_count": 124,
   "metadata": {},
   "outputs": [
    {
     "data": {
      "text/plain": [
       "0.9352343832414456"
      ]
     },
     "execution_count": 124,
     "metadata": {},
     "output_type": "execute_result"
    }
   ],
   "source": [
    "metrics.precision(1.0)"
   ]
  },
  {
   "cell_type": "code",
   "execution_count": 125,
   "metadata": {},
   "outputs": [
    {
     "data": {
      "text/plain": [
       "0.9694733812949641"
      ]
     },
     "execution_count": 125,
     "metadata": {},
     "output_type": "execute_result"
    }
   ],
   "source": [
    "metrics.recall(1.0)"
   ]
  },
  {
   "cell_type": "code",
   "execution_count": 126,
   "metadata": {},
   "outputs": [
    {
     "data": {
      "text/plain": [
       "0.952046142411851"
      ]
     },
     "execution_count": 126,
     "metadata": {},
     "output_type": "execute_result"
    }
   ],
   "source": [
    "metrics.fMeasure(1.0)"
   ]
  },
  {
   "cell_type": "markdown",
   "metadata": {},
   "source": [
    "#### precision, recall, f1score for positve reviews"
   ]
  },
  {
   "cell_type": "code",
   "execution_count": 127,
   "metadata": {},
   "outputs": [
    {
     "data": {
      "text/plain": [
       "0.9095898817032012"
      ]
     },
     "execution_count": 127,
     "metadata": {},
     "output_type": "execute_result"
    }
   ],
   "source": [
    "metrics.precision(0.0)"
   ]
  },
  {
   "cell_type": "code",
   "execution_count": 128,
   "metadata": {},
   "outputs": [
    {
     "data": {
      "text/plain": [
       "0.8206129761483691"
      ]
     },
     "execution_count": 128,
     "metadata": {},
     "output_type": "execute_result"
    }
   ],
   "source": [
    "metrics.recall(0.0)"
   ]
  },
  {
   "cell_type": "code",
   "execution_count": 129,
   "metadata": {},
   "outputs": [
    {
     "data": {
      "text/plain": [
       "0.8628135787797208"
      ]
     },
     "execution_count": 129,
     "metadata": {},
     "output_type": "execute_result"
    }
   ],
   "source": [
    "metrics.fMeasure(0.0)"
   ]
  },
  {
   "cell_type": "markdown",
   "metadata": {},
   "source": [
    "### Predictions on all ratings using user average as threshold"
   ]
  },
  {
   "cell_type": "code",
   "execution_count": 29,
   "metadata": {},
   "outputs": [],
   "source": [
    "(sample,spill) = data.randomSplit([0.20,.80])"
   ]
  },
  {
   "cell_type": "code",
   "execution_count": 30,
   "metadata": {},
   "outputs": [
    {
     "name": "stdout",
     "output_type": "stream",
     "text": [
      "+------+----------+--------------------+--------------------+--------------------+-----+\n",
      "|userId|businessId|             comment|            filtered|            features|label|\n",
      "+------+----------+--------------------+--------------------+--------------------+-----+\n",
      "| 11177| 149746170|I Moved in Skepti...|[moved, skeptical...|(262144,[2624,334...|    5|\n",
      "| 24963| 154324441|I love frys! They...|[love, frys!, nic...|(262144,[14,22346...|    5|\n",
      "| 31745| 159636968|I bought my weddi...|[bought, wedding,...|(262144,[5381,119...|    5|\n",
      "| 43859|  82938410|I visited US Pati...|[visited, us, pat...|(262144,[1466,252...|    5|\n",
      "| 45363| 112823939|My love treated m...|[love, treated, l...|(262144,[2711,306...|    4|\n",
      "+------+----------+--------------------+--------------------+--------------------+-----+\n",
      "only showing top 5 rows\n",
      "\n"
     ]
    }
   ],
   "source": [
    "sample.show(5)"
   ]
  },
  {
   "cell_type": "code",
   "execution_count": 31,
   "metadata": {},
   "outputs": [
    {
     "name": "stdout",
     "output_type": "stream",
     "text": [
      "+-------+------------------+\n",
      "| userId|   avg-user-rating|\n",
      "+-------+------------------+\n",
      "|1611041|3.7777777777777777|\n",
      "|6002391|               2.0|\n",
      "|6630078|               1.0|\n",
      "|7597505|               5.0|\n",
      "|8779122|               5.0|\n",
      "+-------+------------------+\n",
      "only showing top 5 rows\n",
      "\n"
     ]
    }
   ],
   "source": [
    "avg_rating = sample.groupBy('userId').agg(avg(col('label')).alias('avg-user-rating'))\n",
    "avg_rating.show(5)"
   ]
  },
  {
   "cell_type": "code",
   "execution_count": 32,
   "metadata": {},
   "outputs": [
    {
     "name": "stdout",
     "output_type": "stream",
     "text": [
      "+------+----------+--------------------+--------------------+--------------------+-----+---------------+\n",
      "|userId|businessId|             comment|            filtered|            features|label|avg-user-rating|\n",
      "+------+----------+--------------------+--------------------+--------------------+-----+---------------+\n",
      "| 26583| 123465947|Airy and colorful...|[airy, colorful, ...|(262144,[10879,21...|    4|            4.0|\n",
      "|109068| 130676348|Want a loud, obno...|[want, loud,, obn...|(262144,[28172,50...|    2|            2.0|\n",
      "|687716|  45848465|Great food at gre...|[great, food, gre...|(262144,[6979,223...|    5|            5.0|\n",
      "|694746| 102984270|Do the price sear...|[price, search, b...|(262144,[40861,43...|    1|            1.0|\n",
      "|922409|  12790888|Sherri Did a real...|[sherri, really, ...|(262144,[14,54961...|    5|            4.0|\n",
      "+------+----------+--------------------+--------------------+--------------------+-----+---------------+\n",
      "only showing top 5 rows\n",
      "\n"
     ]
    }
   ],
   "source": [
    "sample_test = sample.join(avg_rating,'userId')\n",
    "sample_test.show(5)"
   ]
  },
  {
   "cell_type": "code",
   "execution_count": 33,
   "metadata": {
    "scrolled": true
   },
   "outputs": [
    {
     "name": "stdout",
     "output_type": "stream",
     "text": [
      "+-------+----------+--------------------+--------------------+--------------------+-----+------------------+\n",
      "| userId|businessId|             comment|            filtered|            features|label|   avg-user-rating|\n",
      "+-------+----------+--------------------+--------------------+--------------------+-----+------------------+\n",
      "|  26583| 123465947|Airy and colorful...|[airy, colorful, ...|(262144,[10879,21...|    4|               4.0|\n",
      "| 109068| 130676348|Want a loud, obno...|[want, loud,, obn...|(262144,[28172,50...|    2|               2.0|\n",
      "| 687716|  45848465|Great food at gre...|[great, food, gre...|(262144,[6979,223...|    5|               5.0|\n",
      "| 694746| 102984270|Do the price sear...|[price, search, b...|(262144,[40861,43...|    1|               1.0|\n",
      "| 922409|  12790888|Sherri Did a real...|[sherri, really, ...|(262144,[14,54961...|    5|               4.0|\n",
      "| 922409|  66199679|Very good filet m...|[good, filet, mig...|(262144,[1536,420...|    3|               4.0|\n",
      "|1001043|  39216299|This review is sp...|[review, specific...|(262144,[3091,688...|    2|               3.0|\n",
      "|1001043|  86505060|We decided to com...|[decided, come, l...|(262144,[11748,18...|    4|               3.0|\n",
      "|1038881| 127465696|Hot meal, flavor ...|[hot, meal,, flav...|(262144,[2437,295...|    2|              2.75|\n",
      "|1038881| 130753980|This place almost...|[place, almost, r...|(262144,[2437,271...|    3|              2.75|\n",
      "|1038881| 135583425|Not really impres...|[really, impresse...|(262144,[14,9133,...|    3|              2.75|\n",
      "|1038881| 160836964|This is about at ...|[3, 5, stars, get...|(262144,[22486,33...|    3|              2.75|\n",
      "|1134061|  81332260|Dineen's Mocha's ...|[dineen's, mocha'...|(262144,[4200,736...|    2|               2.0|\n",
      "|1178241|  28284453|Went here for the...|[went, ccw, renew...|(262144,[13114,13...|    5|               5.0|\n",
      "|1280879| 160662620|The ambiance of t...|[ambiance, place,...|(262144,[14,1879,...|    4|               4.0|\n",
      "|1611041|  35739108|Mt friend and I w...|[mt, friend, went...|(262144,[14,5430,...|    4|3.7777777777777777|\n",
      "|1611041|  44431275|I read about the ...|[read, 1, hr, par...|(262144,[6967,160...|    4|3.7777777777777777|\n",
      "|1611041|  61737433|I've been going t...|[going, cleaners,...|(262144,[14385,15...|    2|3.7777777777777777|\n",
      "|1611041|  62402605|I've heard a lot ...|[heard, lot, plac...|(262144,[1076,462...|    4|3.7777777777777777|\n",
      "|1611041|  65096078|What I like abt L...|[like, abt, lola,...|(262144,[9350,198...|    4|3.7777777777777777|\n",
      "|1611041|  80700072|I've hiked this m...|[hiked, mountain,...|(262144,[535,699,...|    5|3.7777777777777777|\n",
      "|1611041|  88304938|I'd never heard o...|[never, heard, fl...|(262144,[14,7717,...|    3|3.7777777777777777|\n",
      "|1611041|  92958955|I stopped by this...|[stopped, shop, f...|(262144,[3463,386...|    5|3.7777777777777777|\n",
      "|1611041| 152076674|I visited Slickab...|[visited, slickab...|(262144,[14,3530,...|    3|3.7777777777777777|\n",
      "|1750806|  41782063|This place sucks ...|[place, sucks, eg...|(262144,[6872,104...|    1|               1.0|\n",
      "|1907741|  15110460|Love love love th...|[love, love, love...|(262144,[1728,192...|    5|               5.0|\n",
      "|2023132|  55109051|Nobody greets you...|[nobody, greets, ...|(262144,[12320,12...|    2|               2.0|\n",
      "|2165860|  70201335|Sushi this good a...|[sushi, good, sma...|(262144,[7897,186...|    5|               5.0|\n",
      "|2239215| 173166765|Okay, this is the...|[okay,, honest, r...|(262144,[1536,271...|    4|               4.0|\n",
      "|2353175|   1914635|Not really a fan ...|[really, fan, sho...|(262144,[14,2618,...|    2|               2.0|\n",
      "|2438081|  28837311|I came to Oh Boy ...|[came, oh, boy, s...|(262144,[5381,852...|    3|               4.0|\n",
      "|2438081|  37179023|This is a review ...|[review, eat, opt...|(262144,[1846,537...|    4|               4.0|\n",
      "|2438081|  53106174|BIG!! That's the ...|[big!!, best, way...|(262144,[11901,11...|    4|               4.0|\n",
      "|2438081| 103784952|Do you know how d...|[know, difficult,...|(262144,[1176,129...|    5|               4.0|\n",
      "|2438081| 156286101|I have been here ...|[three, times, sa...|(262144,[5034,707...|    5|               4.0|\n",
      "|2438081| 161154795|This is a three s...|[three, star, rev...|(262144,[14,991,4...|    3|               4.0|\n",
      "|2694199| 165913834|All I can say is ...|[say, love, place...|(262144,[4333,241...|    5|               5.0|\n",
      "|2807549|    611354|It's a shame that...|[shame, thai, opt...|(262144,[14,8287,...|    2|               3.5|\n",
      "|2807549| 114029502|Max's is one of t...|[max's, one, best...|(262144,[3067,334...|    5|               3.5|\n",
      "|2837605| 159214974|I had my F-350 de...|[f-350, detailed,...|(262144,[8126,991...|    3|               3.0|\n",
      "|2931076|  72382829|Ok buffet... No l...|[ok, buffet..., l...|(262144,[1509,316...|    3|               3.0|\n",
      "|2970105|  88877494|Good sandwich. To...|[good, sandwich.,...|(262144,[8443,198...|    3|               3.0|\n",
      "|3156146| 114436898|Started working o...|[started, working...|(262144,[1354,523...|    5|               5.0|\n",
      "|3252532|   2716008|This is the perfe...|[perfect, spot, b...|(262144,[21872,22...|    5|               5.0|\n",
      "|3293834| 175826672|Somewhat of a div...|[somewhat, dive, ...|(262144,[5595,155...|    4|               4.0|\n",
      "|3907541|   2959242|I would definitel...|[definitely, go, ...|(262144,[2437,584...|    4| 4.333333333333333|\n",
      "|3907541|  32019105|I love Bacchus Lo...|[love, bacchus, l...|(262144,[14,2437,...|    5| 4.333333333333333|\n",
      "|3907541|  52448547|I really want to ...|[really, want, li...|(262144,[14,6728,...|    3| 4.333333333333333|\n",
      "|3907541|  79461299|I went here for a...|[went, monthly, d...|(262144,[14,18694...|    4| 4.333333333333333|\n",
      "|3907541| 101991322|You can never go ...|[never, go, wrong...|(262144,[14,2307,...|    5| 4.333333333333333|\n",
      "+-------+----------+--------------------+--------------------+--------------------+-----+------------------+\n",
      "only showing top 50 rows\n",
      "\n"
     ]
    }
   ],
   "source": [
    "sample_test.show(50)"
   ]
  },
  {
   "cell_type": "code",
   "execution_count": 34,
   "metadata": {},
   "outputs": [],
   "source": [
    "# def make_label(n):\n",
    "#     if \n",
    "\n",
    "# fix_label = udf(make_label)\n",
    "\n",
    "sample_labeled = sample_test.withColumn('label', when(col('label') < col('avg-user-rating') , 0 ).otherwise(1)  )"
   ]
  },
  {
   "cell_type": "code",
   "execution_count": 36,
   "metadata": {},
   "outputs": [
    {
     "name": "stdout",
     "output_type": "stream",
     "text": [
      "+------+----------+--------------------+--------------------+--------------------+-----+---------------+\n",
      "|userId|businessId|             comment|            filtered|            features|label|avg-user-rating|\n",
      "+------+----------+--------------------+--------------------+--------------------+-----+---------------+\n",
      "| 26583| 123465947|Airy and colorful...|[airy, colorful, ...|(262144,[10879,21...|    1|            4.0|\n",
      "|109068| 130676348|Want a loud, obno...|[want, loud,, obn...|(262144,[28172,50...|    1|            2.0|\n",
      "|687716|  45848465|Great food at gre...|[great, food, gre...|(262144,[6979,223...|    1|            5.0|\n",
      "|694746| 102984270|Do the price sear...|[price, search, b...|(262144,[40861,43...|    1|            1.0|\n",
      "|922409|  12790888|Sherri Did a real...|[sherri, really, ...|(262144,[14,54961...|    1|            4.0|\n",
      "+------+----------+--------------------+--------------------+--------------------+-----+---------------+\n",
      "only showing top 5 rows\n",
      "\n"
     ]
    }
   ],
   "source": [
    "sample_labeled.show(5)"
   ]
  },
  {
   "cell_type": "code",
   "execution_count": 37,
   "metadata": {},
   "outputs": [],
   "source": [
    "predictions_sample = model.transform(sample_labeled)"
   ]
  },
  {
   "cell_type": "code",
   "execution_count": 38,
   "metadata": {
    "scrolled": true
   },
   "outputs": [
    {
     "name": "stdout",
     "output_type": "stream",
     "text": [
      "+------+----------+--------------------+--------------------+--------------------+-----+---------------+--------------------+--------------------+----------+\n",
      "|userId|businessId|             comment|            filtered|            features|label|avg-user-rating|       rawPrediction|         probability|prediction|\n",
      "+------+----------+--------------------+--------------------+--------------------+-----+---------------+--------------------+--------------------+----------+\n",
      "| 26583| 123465947|Airy and colorful...|[airy, colorful, ...|(262144,[10879,21...|    1|            4.0|[-452.29707061457...|[8.28507806653137...|       1.0|\n",
      "|109068| 130676348|Want a loud, obno...|[want, loud,, obn...|(262144,[28172,50...|    1|            2.0|[-578.17653127418...|[3.22209856627827...|       1.0|\n",
      "|687716|  45848465|Great food at gre...|[great, food, gre...|(262144,[6979,223...|    1|            5.0|[-1144.5015790820...|[1.86254620001386...|       1.0|\n",
      "|694746| 102984270|Do the price sear...|[price, search, b...|(262144,[40861,43...|    1|            1.0|[-2034.8909563082...|[1.0,1.5281137334...|       0.0|\n",
      "|922409|  12790888|Sherri Did a real...|[sherri, really, ...|(262144,[14,54961...|    1|            4.0|[-1092.1134339520...|[6.08623612466676...|       1.0|\n",
      "+------+----------+--------------------+--------------------+--------------------+-----+---------------+--------------------+--------------------+----------+\n",
      "only showing top 5 rows\n",
      "\n"
     ]
    }
   ],
   "source": [
    "predictions_sample.show(5)"
   ]
  },
  {
   "cell_type": "code",
   "execution_count": 39,
   "metadata": {
    "scrolled": true
   },
   "outputs": [
    {
     "name": "stdout",
     "output_type": "stream",
     "text": [
      "+--------------------+--------------------+-----+----------+\n",
      "|             comment|            filtered|label|prediction|\n",
      "+--------------------+--------------------+-----+----------+\n",
      "|Do the price sear...|[price, search, b...|    1|       0.0|\n",
      "|This review is sp...|[review, specific...|    0|       0.0|\n",
      "|Hot meal, flavor ...|[hot, meal,, flav...|    0|       0.0|\n",
      "|Not really impres...|[really, impresse...|    1|       0.0|\n",
      "|I read about the ...|[read, 1, hr, par...|    1|       0.0|\n",
      "|I've been going t...|[going, cleaners,...|    0|       0.0|\n",
      "|This place sucks ...|[place, sucks, eg...|    1|       0.0|\n",
      "|Nobody greets you...|[nobody, greets, ...|    1|       0.0|\n",
      "|It's a shame that...|[shame, thai, opt...|    0|       0.0|\n",
      "|I had my F-350 de...|[f-350, detailed,...|    1|       0.0|\n",
      "+--------------------+--------------------+-----+----------+\n",
      "only showing top 10 rows\n",
      "\n"
     ]
    }
   ],
   "source": [
    "predictions_sample.filter(predictions_sample['prediction'] == 0).select('comment','filtered','label','prediction').show(10)"
   ]
  },
  {
   "cell_type": "code",
   "execution_count": 40,
   "metadata": {},
   "outputs": [
    {
     "data": {
      "text/plain": [
       "0.7279135536807858"
      ]
     },
     "execution_count": 40,
     "metadata": {},
     "output_type": "execute_result"
    }
   ],
   "source": [
    "evaluator.evaluate(predictions_sample)"
   ]
  },
  {
   "cell_type": "markdown",
   "metadata": {},
   "source": [
    "### precision, recall, f1score"
   ]
  },
  {
   "cell_type": "code",
   "execution_count": 107,
   "metadata": {},
   "outputs": [],
   "source": [
    "metrics_rdd1 = predictions_sample.select(col('label').cast('float'),col('prediction').cast('float')).rdd"
   ]
  },
  {
   "cell_type": "code",
   "execution_count": 108,
   "metadata": {},
   "outputs": [],
   "source": [
    "metrics1 = MulticlassMetrics(metrics_rdd1)"
   ]
  },
  {
   "cell_type": "markdown",
   "metadata": {},
   "source": [
    "#### precision, recall, f1score for positve reviews"
   ]
  },
  {
   "cell_type": "code",
   "execution_count": 112,
   "metadata": {},
   "outputs": [
    {
     "data": {
      "text/plain": [
       "0.7136437490633051"
      ]
     },
     "execution_count": 112,
     "metadata": {},
     "output_type": "execute_result"
    }
   ],
   "source": [
    "metrics1.precision(1.0)"
   ]
  },
  {
   "cell_type": "code",
   "execution_count": 113,
   "metadata": {},
   "outputs": [
    {
     "data": {
      "text/plain": [
       "0.7136437490633051"
      ]
     },
     "execution_count": 113,
     "metadata": {},
     "output_type": "execute_result"
    }
   ],
   "source": [
    "metrics1.recall(1.0)"
   ]
  },
  {
   "cell_type": "code",
   "execution_count": 120,
   "metadata": {},
   "outputs": [
    {
     "data": {
      "text/plain": [
       "0.8145702811492443"
      ]
     },
     "execution_count": 120,
     "metadata": {},
     "output_type": "execute_result"
    }
   ],
   "source": [
    "metrics1.fMeasure(1.0)"
   ]
  },
  {
   "cell_type": "markdown",
   "metadata": {},
   "source": [
    "#### precision, recall, f1score for positve reviews"
   ]
  },
  {
   "cell_type": "code",
   "execution_count": null,
   "metadata": {},
   "outputs": [],
   "source": [
    "metrics1.precision(0.0)"
   ]
  },
  {
   "cell_type": "code",
   "execution_count": null,
   "metadata": {},
   "outputs": [],
   "source": [
    "metrics1.recall(0.0)"
   ]
  },
  {
   "cell_type": "code",
   "execution_count": 121,
   "metadata": {},
   "outputs": [
    {
     "data": {
      "text/plain": [
       "0.37163364915302904"
      ]
     },
     "execution_count": 121,
     "metadata": {},
     "output_type": "execute_result"
    }
   ],
   "source": [
    "metrics1.fMeasure(0.0)"
   ]
  },
  {
   "cell_type": "markdown",
   "metadata": {},
   "source": [
    "### Predictions on all ratings using 2.5 as threshold"
   ]
  },
  {
   "cell_type": "code",
   "execution_count": 41,
   "metadata": {},
   "outputs": [],
   "source": [
    "sample_labeled2 = sample_test.withColumn('label', when(col('label') < 2.5 , 0 ).otherwise(1)  )"
   ]
  },
  {
   "cell_type": "code",
   "execution_count": 42,
   "metadata": {},
   "outputs": [],
   "source": [
    "predictions_sample2 = model.transform(sample_labeled2)"
   ]
  },
  {
   "cell_type": "code",
   "execution_count": 43,
   "metadata": {},
   "outputs": [
    {
     "data": {
      "text/plain": [
       "0.8855857416700659"
      ]
     },
     "execution_count": 43,
     "metadata": {},
     "output_type": "execute_result"
    }
   ],
   "source": [
    "evaluator.evaluate(predictions_sample2)"
   ]
  },
  {
   "cell_type": "code",
   "execution_count": 50,
   "metadata": {
    "scrolled": true
   },
   "outputs": [
    {
     "name": "stdout",
     "output_type": "stream",
     "text": [
      "+--------------------+--------------------+-----+----------+\n",
      "|             comment|            filtered|label|prediction|\n",
      "+--------------------+--------------------+-----+----------+\n",
      "|Airy and colorful...|[airy, colorful, ...|    1|       1.0|\n",
      "|Want a loud, obno...|[want, loud,, obn...|    0|       1.0|\n",
      "|Great food at gre...|[great, food, gre...|    1|       1.0|\n",
      "|Sherri Did a real...|[sherri, really, ...|    1|       1.0|\n",
      "|Very good filet m...|[good, filet, mig...|    1|       1.0|\n",
      "|We decided to com...|[decided, come, l...|    1|       1.0|\n",
      "|This place almost...|[place, almost, r...|    1|       1.0|\n",
      "|This is about at ...|[3, 5, stars, get...|    1|       1.0|\n",
      "|Dineen's Mocha's ...|[dineen's, mocha'...|    0|       1.0|\n",
      "|Went here for the...|[went, ccw, renew...|    1|       1.0|\n",
      "|The ambiance of t...|[ambiance, place,...|    1|       1.0|\n",
      "|Mt friend and I w...|[mt, friend, went...|    1|       1.0|\n",
      "|I've heard a lot ...|[heard, lot, plac...|    1|       1.0|\n",
      "|What I like abt L...|[like, abt, lola,...|    1|       1.0|\n",
      "|I've hiked this m...|[hiked, mountain,...|    1|       1.0|\n",
      "|I'd never heard o...|[never, heard, fl...|    1|       1.0|\n",
      "|I stopped by this...|[stopped, shop, f...|    1|       1.0|\n",
      "|I visited Slickab...|[visited, slickab...|    1|       1.0|\n",
      "|Love love love th...|[love, love, love...|    1|       1.0|\n",
      "|Sushi this good a...|[sushi, good, sma...|    1|       1.0|\n",
      "|Okay, this is the...|[okay,, honest, r...|    1|       1.0|\n",
      "|Not really a fan ...|[really, fan, sho...|    0|       1.0|\n",
      "|I came to Oh Boy ...|[came, oh, boy, s...|    1|       1.0|\n",
      "|This is a review ...|[review, eat, opt...|    1|       1.0|\n",
      "|BIG!! That's the ...|[big!!, best, way...|    1|       1.0|\n",
      "|Do you know how d...|[know, difficult,...|    1|       1.0|\n",
      "|I have been here ...|[three, times, sa...|    1|       1.0|\n",
      "|This is a three s...|[three, star, rev...|    1|       1.0|\n",
      "|All I can say is ...|[say, love, place...|    1|       1.0|\n",
      "|Max's is one of t...|[max's, one, best...|    1|       1.0|\n",
      "|Good sandwich. To...|[good, sandwich.,...|    1|       1.0|\n",
      "|Started working o...|[started, working...|    1|       1.0|\n",
      "|I would definitel...|[definitely, go, ...|    1|       1.0|\n",
      "|I love Bacchus Lo...|[love, bacchus, l...|    1|       1.0|\n",
      "|I went here for a...|[went, monthly, d...|    1|       1.0|\n",
      "|You can never go ...|[never, go, wrong...|    1|       1.0|\n",
      "|I went there for ...|[went, event, cle...|    1|       1.0|\n",
      "|You can never go ...|[never, go, wrong...|    1|       1.0|\n",
      "|Love love love SS...|[love, love, love...|    1|       1.0|\n",
      "|This is one of th...|[one, places, mis...|    1|       1.0|\n",
      "|Love the wine bar...|[love, wine, bar,...|    1|       1.0|\n",
      "|I've been going h...|[going, years., f...|    1|       1.0|\n",
      "|The best tortas i...|[best, tortas, la...|    1|       1.0|\n",
      "|The most expensiv...|[expensive, marke...|    0|       1.0|\n",
      "|The staff and doc...|[staff, doctor, w...|    1|       1.0|\n",
      "|Very nice craft b...|[nice, craft, bee...|    1|       1.0|\n",
      "|I went with a lar...|[went, large, gro...|    1|       1.0|\n",
      "|We have been to a...|[lot, japanese, r...|    1|       1.0|\n",
      "|We were here on 2...|[2, separate, occ...|    1|       1.0|\n",
      "|It was with great...|[great, joy, laug...|    1|       1.0|\n",
      "+--------------------+--------------------+-----+----------+\n",
      "only showing top 50 rows\n",
      "\n"
     ]
    }
   ],
   "source": [
    "predictions_sample2.filter(predictions_sample2['prediction'] == 1).select('comment','filtered','label','prediction').show(50)"
   ]
  },
  {
   "cell_type": "code",
   "execution_count": 86,
   "metadata": {
    "scrolled": true
   },
   "outputs": [
    {
     "name": "stdout",
     "output_type": "stream",
     "text": [
      "+--------------------+--------------------+-----+----------+\n",
      "|             comment|            filtered|label|prediction|\n",
      "+--------------------+--------------------+-----+----------+\n",
      "|It wasn't that th...|[food, awful,, fo...|    2|       0.0|\n",
      "|The manager, Garr...|[manager,, garret...|    1|       0.0|\n",
      "|This place was go...|[place, good, bad...|    3|       0.0|\n",
      "|To be honest with...|[honest, personal...|    2|       0.0|\n",
      "|Drove by a couple...|[drove, couple, d...|    1|       0.0|\n",
      "|Literally the day...|[literally, day, ...|    5|       0.0|\n",
      "|wow...for a high ...|[wow...for, high,...|    1|       0.0|\n",
      "|I live here my dr...|[live, dryer, got...|    1|       0.0|\n",
      "|The tablet charge...|[tablet, charger,...|    1|       0.0|\n",
      "|I will NEVER buy ...|[never, buy, anot...|    1|       0.0|\n",
      "|Food was ok, it s...|[food, ok,, seems...|    2|       0.0|\n",
      "|Drove around Home...|[drove, around, h...|    2|       0.0|\n",
      "|have been receivi...|[receiving, bills...|    1|       0.0|\n",
      "|Nice pets, reason...|[nice, pets,, rea...|    2|       0.0|\n",
      "|After some lookin...|[looking, around,...|    2|       0.0|\n",
      "|We Ate here for a...|[ate, celebration...|    1|       0.0|\n",
      "|I've fequented he...|[fequented, often...|    2|       0.0|\n",
      "|I came here for w...|[came, weekend, b...|    1|       0.0|\n",
      "|Showed up and ask...|[showed, asked, w...|    1|       0.0|\n",
      "|So I needed a pla...|[needed, place, n...|    4|       0.0|\n",
      "|I highly recommen...|[highly, recommen...|    5|       0.0|\n",
      "|check it out I wa...|[check, taking, f...|    1|       0.0|\n",
      "|Returned my van, ...|[returned, van,, ...|    1|       0.0|\n",
      "|Service was great...|[service, great!,...|    3|       0.0|\n",
      "|For the amount of...|[amount, money, p...|    2|       0.0|\n",
      "|The only reason w...|[reason, giving, ...|    3|       0.0|\n",
      "|Pros: Amazing pot...|[pros:, amazing, ...|    2|       0.0|\n",
      "|When I found out ...|[found, chatime, ...|    3|       0.0|\n",
      "|The food and cock...|[food, cocktails,...|    4|       0.0|\n",
      "|The only reason I...|[reason, wanted, ...|    2|       0.0|\n",
      "|You always hear s...|[always, hear, ma...|    5|       0.0|\n",
      "|I spent 5 nights ...|[spent, 5, nights...|    3|       0.0|\n",
      "|I took my tires i...|[took, tires, bal...|    2|       0.0|\n",
      "|I heard about thi...|[heard, facility,...|    1|       0.0|\n",
      "|The atmosphere he...|[atmosphere, grea...|    4|       0.0|\n",
      "|Oh Smashburger ho...|[oh, smashburger,...|    2|       0.0|\n",
      "|2 stars out of re...|[2, stars, respec...|    2|       0.0|\n",
      "|Ive been here thr...|[ive, three, time...|    4|       0.0|\n",
      "|If you are in the...|[mood, bad, food,...|    1|       0.0|\n",
      "|I ordered again t...|[ordered, time, e...|    5|       0.0|\n",
      "|Went here after a...|[went, wedding, 2...|    2|       0.0|\n",
      "|Everything our ta...|[everything, tabl...|    1|       0.0|\n",
      "|This place is rea...|[place, really, c...|    3|       0.0|\n",
      "|Left the oil cap ...|[left, oil, cap, ...|    1|       0.0|\n",
      "|What used to be a...|[used, arguably, ...|    1|       0.0|\n",
      "|Food is always ju...|[food, always, fi...|    1|       0.0|\n",
      "|I'm very disappoi...|[disappointed, se...|    1|       0.0|\n",
      "|I was excited to ...|[excited, try, pl...|    2|       0.0|\n",
      "|I have tried to g...|[tried, get, boar...|    3|       0.0|\n",
      "|If I could give z...|[give, zero, woul...|    1|       0.0|\n",
      "+--------------------+--------------------+-----+----------+\n",
      "only showing top 50 rows\n",
      "\n"
     ]
    }
   ],
   "source": [
    "predictions.filter(predictions['prediction'] == 0).select('comment','filtered','label','prediction').show(50)"
   ]
  },
  {
   "cell_type": "markdown",
   "metadata": {},
   "source": [
    "### precision, recall, f1score"
   ]
  },
  {
   "cell_type": "code",
   "execution_count": 101,
   "metadata": {},
   "outputs": [],
   "source": [
    "metrics_rdd2 = predictions_sample2.select(col('label').cast('float'),col('prediction').cast('float')).rdd"
   ]
  },
  {
   "cell_type": "code",
   "execution_count": 103,
   "metadata": {},
   "outputs": [],
   "source": [
    "metrics2 = MulticlassMetrics(metrics_rdd2)"
   ]
  },
  {
   "cell_type": "markdown",
   "metadata": {},
   "source": [
    "#### precision, recall, f1score for positve reviews"
   ]
  },
  {
   "cell_type": "code",
   "execution_count": 104,
   "metadata": {},
   "outputs": [
    {
     "data": {
      "text/plain": [
       "0.899683723204327"
      ]
     },
     "execution_count": 104,
     "metadata": {},
     "output_type": "execute_result"
    }
   ],
   "source": [
    "metrics2.precision(1.0)"
   ]
  },
  {
   "cell_type": "code",
   "execution_count": 105,
   "metadata": {},
   "outputs": [
    {
     "data": {
      "text/plain": [
       "0.9465688859167427"
      ]
     },
     "execution_count": 105,
     "metadata": {},
     "output_type": "execute_result"
    }
   ],
   "source": [
    "metrics2.recall(1.0)"
   ]
  },
  {
   "cell_type": "code",
   "execution_count": 115,
   "metadata": {},
   "outputs": [
    {
     "data": {
      "text/plain": [
       "0.9225309855690518"
      ]
     },
     "execution_count": 115,
     "metadata": {},
     "output_type": "execute_result"
    }
   ],
   "source": [
    "metrics2.fMeasure(1.0)"
   ]
  },
  {
   "cell_type": "markdown",
   "metadata": {},
   "source": [
    "#### precision, recall, f1score for negetive reviews"
   ]
  },
  {
   "cell_type": "code",
   "execution_count": 116,
   "metadata": {},
   "outputs": [
    {
     "data": {
      "text/plain": [
       "0.8215236908801925"
      ]
     },
     "execution_count": 116,
     "metadata": {},
     "output_type": "execute_result"
    }
   ],
   "source": [
    "metrics2.precision(0.0)"
   ]
  },
  {
   "cell_type": "code",
   "execution_count": 117,
   "metadata": {},
   "outputs": [
    {
     "data": {
      "text/plain": [
       "0.6997210153212897"
      ]
     },
     "execution_count": 117,
     "metadata": {},
     "output_type": "execute_result"
    }
   ],
   "source": [
    "metrics2.recall(0.0)"
   ]
  },
  {
   "cell_type": "code",
   "execution_count": 118,
   "metadata": {},
   "outputs": [
    {
     "data": {
      "text/plain": [
       "0.7557461186222159"
      ]
     },
     "execution_count": 118,
     "metadata": {},
     "output_type": "execute_result"
    }
   ],
   "source": [
    "metrics2.fMeasure(0.0)"
   ]
  },
  {
   "cell_type": "markdown",
   "metadata": {},
   "source": [
    "## Predictions on all ratings using global average as threshold"
   ]
  },
  {
   "cell_type": "code",
   "execution_count": 44,
   "metadata": {},
   "outputs": [],
   "source": [
    "sample_labeled3 = sample_test.withColumn('label', when(col('label') < 3.7 , 0 ).otherwise(1)  )"
   ]
  },
  {
   "cell_type": "code",
   "execution_count": 45,
   "metadata": {},
   "outputs": [],
   "source": [
    "predictions_sample3 = model.transform(sample_labeled3)"
   ]
  },
  {
   "cell_type": "code",
   "execution_count": 46,
   "metadata": {},
   "outputs": [
    {
     "data": {
      "text/plain": [
       "0.8264710966435571"
      ]
     },
     "execution_count": 46,
     "metadata": {},
     "output_type": "execute_result"
    }
   ],
   "source": [
    "evaluator.evaluate(predictions_sample3)"
   ]
  },
  {
   "cell_type": "code",
   "execution_count": 73,
   "metadata": {
    "scrolled": true
   },
   "outputs": [
    {
     "name": "stdout",
     "output_type": "stream",
     "text": [
      "+--------------------+-----+----------+\n",
      "|             comment|label|prediction|\n",
      "+--------------------+-----+----------+\n",
      "|Airy and colorful...|    1|       1.0|\n",
      "|Want a loud, obno...|    0|       1.0|\n",
      "|Great food at gre...|    1|       1.0|\n",
      "|Sherri Did a real...|    1|       1.0|\n",
      "|Very good filet m...|    0|       1.0|\n",
      "|We decided to com...|    1|       1.0|\n",
      "|This place almost...|    0|       1.0|\n",
      "|This is about at ...|    0|       1.0|\n",
      "|Dineen's Mocha's ...|    0|       1.0|\n",
      "|Went here for the...|    1|       1.0|\n",
      "|The ambiance of t...|    1|       1.0|\n",
      "|Mt friend and I w...|    1|       1.0|\n",
      "|I've heard a lot ...|    1|       1.0|\n",
      "|What I like abt L...|    1|       1.0|\n",
      "|I've hiked this m...|    1|       1.0|\n",
      "|I'd never heard o...|    0|       1.0|\n",
      "|I stopped by this...|    1|       1.0|\n",
      "|I visited Slickab...|    0|       1.0|\n",
      "|Love love love th...|    1|       1.0|\n",
      "|Sushi this good a...|    1|       1.0|\n",
      "|Okay, this is the...|    1|       1.0|\n",
      "|Not really a fan ...|    0|       1.0|\n",
      "|I came to Oh Boy ...|    0|       1.0|\n",
      "|This is a review ...|    1|       1.0|\n",
      "|BIG!! That's the ...|    1|       1.0|\n",
      "|Do you know how d...|    1|       1.0|\n",
      "|I have been here ...|    1|       1.0|\n",
      "|This is a three s...|    0|       1.0|\n",
      "|All I can say is ...|    1|       1.0|\n",
      "|Max's is one of t...|    1|       1.0|\n",
      "|Good sandwich. To...|    0|       1.0|\n",
      "|Started working o...|    1|       1.0|\n",
      "|I would definitel...|    1|       1.0|\n",
      "|I love Bacchus Lo...|    1|       1.0|\n",
      "|I went here for a...|    1|       1.0|\n",
      "|You can never go ...|    1|       1.0|\n",
      "|I went there for ...|    1|       1.0|\n",
      "|You can never go ...|    1|       1.0|\n",
      "|Love love love SS...|    1|       1.0|\n",
      "|This is one of th...|    1|       1.0|\n",
      "|Love the wine bar...|    1|       1.0|\n",
      "|I've been going h...|    1|       1.0|\n",
      "|The best tortas i...|    1|       1.0|\n",
      "|The most expensiv...|    0|       1.0|\n",
      "|The staff and doc...|    1|       1.0|\n",
      "|Very nice craft b...|    1|       1.0|\n",
      "|I went with a lar...|    1|       1.0|\n",
      "|We have been to a...|    0|       1.0|\n",
      "|We were here on 2...|    1|       1.0|\n",
      "|It was with great...|    1|       1.0|\n",
      "+--------------------+-----+----------+\n",
      "only showing top 50 rows\n",
      "\n"
     ]
    }
   ],
   "source": [
    "predictions_sample3.filter(predictions_sample3['prediction'] == 1).select('comment','label','prediction').show(50)"
   ]
  },
  {
   "cell_type": "markdown",
   "metadata": {},
   "source": [
    "### precision, recall, f1score"
   ]
  },
  {
   "cell_type": "code",
   "execution_count": 83,
   "metadata": {},
   "outputs": [],
   "source": [
    "metrics_rdd3 = predictions_sample3.select(col('label').cast('float'),col('prediction').cast('float')).rdd"
   ]
  },
  {
   "cell_type": "code",
   "execution_count": 85,
   "metadata": {},
   "outputs": [
    {
     "data": {
      "text/plain": [
       "Row(label=1.0, prediction=1.0)"
      ]
     },
     "execution_count": 85,
     "metadata": {},
     "output_type": "execute_result"
    }
   ],
   "source": [
    "metrics_rdd3.first()"
   ]
  },
  {
   "cell_type": "code",
   "execution_count": 87,
   "metadata": {},
   "outputs": [],
   "source": [
    "metrics3 = MulticlassMetrics(metrics_rdd3)"
   ]
  },
  {
   "cell_type": "markdown",
   "metadata": {},
   "source": [
    "#### precision, recall, f1score for positve reviews"
   ]
  },
  {
   "cell_type": "code",
   "execution_count": 93,
   "metadata": {},
   "outputs": [
    {
     "data": {
      "text/plain": [
       "0.932425780814929"
      ]
     },
     "execution_count": 93,
     "metadata": {},
     "output_type": "execute_result"
    }
   ],
   "source": [
    "metrics3.precision(1.0)"
   ]
  },
  {
   "cell_type": "code",
   "execution_count": 99,
   "metadata": {},
   "outputs": [
    {
     "data": {
      "text/plain": [
       "0.8343825152072429"
      ]
     },
     "execution_count": 99,
     "metadata": {},
     "output_type": "execute_result"
    }
   ],
   "source": [
    "metrics3.recall(1.0)"
   ]
  },
  {
   "cell_type": "code",
   "execution_count": 95,
   "metadata": {},
   "outputs": [
    {
     "data": {
      "text/plain": [
       "0.8806838523364898"
      ]
     },
     "execution_count": 95,
     "metadata": {},
     "output_type": "execute_result"
    }
   ],
   "source": [
    "metrics3.fMeasure(1.0)"
   ]
  },
  {
   "cell_type": "markdown",
   "metadata": {},
   "source": [
    "#### precision, recall, f1score for negetive reviews"
   ]
  },
  {
   "cell_type": "code",
   "execution_count": 94,
   "metadata": {},
   "outputs": [
    {
     "data": {
      "text/plain": [
       "0.6373090192212912"
      ]
     },
     "execution_count": 94,
     "metadata": {},
     "output_type": "execute_result"
    }
   ],
   "source": [
    "metrics3.precision(0.0)"
   ]
  },
  {
   "cell_type": "code",
   "execution_count": 100,
   "metadata": {},
   "outputs": [
    {
     "data": {
      "text/plain": [
       "0.8279624971415505"
      ]
     },
     "execution_count": 100,
     "metadata": {},
     "output_type": "execute_result"
    }
   ],
   "source": [
    "metrics3.recall(0.0)"
   ]
  },
  {
   "cell_type": "code",
   "execution_count": 96,
   "metadata": {},
   "outputs": [
    {
     "data": {
      "text/plain": [
       "0.7202323407133338"
      ]
     },
     "execution_count": 96,
     "metadata": {},
     "output_type": "execute_result"
    }
   ],
   "source": [
    "metrics3.fMeasure(0.0)"
   ]
  }
 ],
 "metadata": {
  "kernelspec": {
   "display_name": "Python 2",
   "language": "python",
   "name": "python2"
  },
  "language_info": {
   "codemirror_mode": {
    "name": "ipython",
    "version": 2
   },
   "file_extension": ".py",
   "mimetype": "text/x-python",
   "name": "python",
   "nbconvert_exporter": "python",
   "pygments_lexer": "ipython2",
   "version": "2.7.12"
  }
 },
 "nbformat": 4,
 "nbformat_minor": 2
}
