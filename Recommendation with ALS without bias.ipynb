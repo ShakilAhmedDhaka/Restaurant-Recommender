{
 "cells": [
  {
   "cell_type": "code",
   "execution_count": 1,
   "metadata": {},
   "outputs": [],
   "source": [
    "from pyspark import SparkContext, SparkConf\n",
    "from pyspark.sql import SparkSession\n",
    "from pyspark.sql.functions import col, avg\n",
    "import hashlib\n",
    "from pyspark.sql.functions import udf\n",
    "\n",
    "from pyspark.ml.evaluation import RegressionEvaluator\n",
    "from pyspark.ml.recommendation import ALS\n",
    "\n",
    "\n",
    "import pandas as pd\n",
    "import numpy as np\n",
    "import matplotlib.pyplot as plt\n",
    "from scipy.stats import norm\n",
    "\n",
    "from pyspark.sql.types import *\n",
    "from pyspark.sql import Row\n",
    "\n",
    "from pyspark.ml.feature import StringIndexer"
   ]
  },
  {
   "cell_type": "code",
   "execution_count": 2,
   "metadata": {},
   "outputs": [],
   "source": [
    "conf = SparkConf().setAppName(\"test\").setMaster(\"*\")\n",
    "spark = SparkSession.builder.getOrCreate()"
   ]
  },
  {
   "cell_type": "code",
   "execution_count": 4,
   "metadata": {},
   "outputs": [],
   "source": [
    "def fix_ids(s):\n",
    "    return int(int(hashlib.sha1(s).hexdigest(), 16) % 15487469)\n",
    "\n",
    "fix_ids_udf = udf(fix_ids)\n",
    "\n",
    "def fix_decimal_values(s):\n",
    "    return round(s,2)\n",
    "\n",
    "fix_round_udf = udf(fix_decimal_values)\n",
    "\n",
    "def conv_to_int(v):\n",
    "    return int(v)\n",
    "\n",
    "to_int_udf = udf(conv_to_int)"
   ]
  },
  {
   "cell_type": "code",
   "execution_count": 5,
   "metadata": {},
   "outputs": [],
   "source": [
    "df = spark.read.json('data/dataset/review.json')\n",
    "rating_df = df.select(df['user_id'],df['stars'].cast('float'),df['business_id'],df['date'].cast('date') )"
   ]
  },
  {
   "cell_type": "code",
   "execution_count": 6,
   "metadata": {},
   "outputs": [],
   "source": [
    "# indexer = StringIndexer(inputCol=\"user_id\", outputCol=\"userId\")\n",
    "# indexed = indexer.fit(rating_df).transform(rating_df)\n",
    "# rating_df = indexed.withColumn('userId',to_int_udf(indexed['userId']))\n",
    "#rating_df.show()"
   ]
  },
  {
   "cell_type": "code",
   "execution_count": 7,
   "metadata": {},
   "outputs": [],
   "source": [
    "# indexer = StringIndexer(inputCol=\"business_id\", outputCol=\"businessId\")\n",
    "# indexed = indexer.fit(rating_df).transform(rating_df)\n",
    "# rating_df = indexed.withColumn('businessId',to_int_udf(col('businessId')))\n",
    "#rating_df.show()"
   ]
  },
  {
   "cell_type": "code",
   "execution_count": 8,
   "metadata": {},
   "outputs": [],
   "source": [
    "# rating_df = rating_df.select('userId','businessId','stars','date')\n",
    "# rating_df.show(5)"
   ]
  },
  {
   "cell_type": "code",
   "execution_count": 9,
   "metadata": {},
   "outputs": [],
   "source": [
    "rating_df= rating_df.withColumn('userId',fix_ids_udf(rating_df['user_id']).cast('int'))\n",
    "rating_df= rating_df.withColumn('businessId',fix_ids_udf(rating_df['business_id']).cast('int'))"
   ]
  },
  {
   "cell_type": "code",
   "execution_count": 10,
   "metadata": {},
   "outputs": [],
   "source": [
    "(training,test,spill) = rating_df.randomSplit([0.20,0.02,.78])"
   ]
  },
  {
   "cell_type": "code",
   "execution_count": 11,
   "metadata": {
    "scrolled": true
   },
   "outputs": [
    {
     "name": "stdout",
     "output_type": "stream",
     "text": [
      "3.72645666644\n"
     ]
    }
   ],
   "source": [
    "gavg=training.groupBy().avg().collect()[0][0]\n",
    "print(gavg)"
   ]
  },
  {
   "cell_type": "code",
   "execution_count": 12,
   "metadata": {},
   "outputs": [
    {
     "name": "stdout",
     "output_type": "stream",
     "text": [
      "+--------------------+-----+--------------------+----------+--------+----------+\n",
      "|             user_id|stars|         business_id|      date|  userId|businessId|\n",
      "+--------------------+-----+--------------------+----------+--------+----------+\n",
      "|--GwB-sktmoAOPBsb...|  5.0|tMxzAzHSFJWjSu6CE...|2014-08-27| 7702973|   8901694|\n",
      "|--JSMB52zXJr_LBlk...|  1.0|rNvY082kkM9paQvf3...|2017-06-14|11569471|   1747320|\n",
      "|--NIc98RMssgy0mSZ...|  3.0|gZvwCOaMhxFXXNvy1...|2017-08-08|11611259|   8465188|\n",
      "|--NIc98RMssgy0mSZ...|  4.0|tyAv9CRnAOjk-sWEo...|2016-08-04|11611259|   5741675|\n",
      "|-0AyZxS5C--WySnbW...|  1.0|YtfQQHdcQ_bGl2V0A...|2014-09-28|  114039|   6414367|\n",
      "+--------------------+-----+--------------------+----------+--------+----------+\n",
      "only showing top 5 rows\n",
      "\n"
     ]
    }
   ],
   "source": [
    "training.show(5)"
   ]
  },
  {
   "cell_type": "code",
   "execution_count": 15,
   "metadata": {
    "scrolled": true
   },
   "outputs": [
    {
     "name": "stdout",
     "output_type": "stream",
     "text": [
      "+--------+----------+-----+---------+---------+---------------------+\n",
      "|  userId|businessId|stars|user-mean|item-mean|user-item-interaction|\n",
      "+--------+----------+-----+---------+---------+---------------------+\n",
      "|85306473|    272391|  5.0|    -0.23|      5.0|          -0.23134898|\n",
      "|43941930|    533542|  4.0|    -0.27|      4.0|          -0.27301595|\n",
      "|58058439|    919571|  1.0|     0.06|      1.0|          0.060317054|\n",
      "| 5959682|    919571|  1.0|     2.73|      1.0|             2.726984|\n",
      "|50575816|    919571|  1.0|    -0.02|      1.0|         -0.023015961|\n",
      "|17809023|    919571|  1.0|     0.73|      1.0|             0.726984|\n",
      "|84355756|    919571|  1.0|     0.39|      1.0|           0.39365104|\n",
      "|72852787|   1088310|  5.0|    -1.27|      5.0|            -1.273016|\n",
      "|45421067|   1166132|  1.0|     2.73|      1.0|             2.726984|\n",
      "|79393828|   1192456|  2.0|    -0.27|      2.0|          -0.27301595|\n",
      "|89514075|   1210943|  4.0|     0.52|      4.0|            0.5235939|\n",
      "|72529602|   1342122|  5.0|    -1.27|      5.0|            -1.273016|\n",
      "|83139531|   1347056|  5.0|    -0.77|      4.5|            -0.773016|\n",
      "| 7237328|   1347056|  4.0|    -0.37|      4.5|          -0.37301633|\n",
      "|48023123|   1390399|  5.0|    -1.27|      5.0|            -1.273016|\n",
      "|38001580|   2654778|  3.0|     0.82| 2.909091|             0.817893|\n",
      "|39125388|   2654778|  5.0|     1.42| 2.909091|            1.4178929|\n",
      "|35955583|   2654778|  2.0|    -0.52| 2.909091|             -0.51544|\n",
      "|26379951|   2654778|  1.0|    -0.18| 2.909091|          -0.18210696|\n",
      "| 9470519|   2654778|  3.0|     0.82| 2.909091|             0.817893|\n",
      "+--------+----------+-----+---------+---------+---------------------+\n",
      "only showing top 20 rows\n",
      "\n"
     ]
    }
   ],
   "source": [
    "df_user = training.groupby(col('userId')).avg().select(col('userId'),col('avg(stars)'))\n",
    "df_user = df_user.select(col('userId'),df_user['avg(stars)'].alias('user-mean').cast('float'))\n",
    "df_item = training.groupby(col('businessId')).avg().select(col('businessId'),col('avg(stars)'))\n",
    "df_item = df_item.select(col('businessId'),df_item['avg(stars)'].alias('item-mean').cast('float'))\n",
    "\n",
    "training = training.join(df_user,'userId')\n",
    "training = training.join(df_item,'businessId')\n",
    "\n",
    "training = training.withColumn('user-item-interaction',training.stars-(training['user-mean']+\\\n",
    "    training['item-mean']-gavg))\n",
    "\n",
    "training = training.select(training.userId,training.businessId,training.stars,training['user-mean'],training['item-mean'],\\\n",
    "training['user-item-interaction'].cast('float'))\n",
    "training = training.withColumn('user-mean',fix_round_udf(training['user-mean']))\n",
    "training = training.withColumn('user-mean',fix_round_udf(training['item-mean']))\n",
    "training = training.withColumn('user-mean',fix_round_udf(training['user-item-interaction']))\n",
    "training.show(20)"
   ]
  },
  {
   "cell_type": "code",
   "execution_count": 20,
   "metadata": {
    "scrolled": true
   },
   "outputs": [
    {
     "name": "stdout",
     "output_type": "stream",
     "text": [
      "+----------+--------+--------------------+-----+--------------------+----------+---------+---------+\n",
      "|businessId|  userId|             user_id|stars|         business_id|      date|user-mean|item-mean|\n",
      "+----------+--------+--------------------+-----+--------------------+----------+---------+---------+\n",
      "|  60200681|87631795|--NIc98RMssgy0mSZ...|  4.0|xidr6_d3fwKSb_XaB...|2017-08-08|     3.67|3.6666667|\n",
      "|  54932015|63928832|--xdSgqUJmcvJot-3...|  4.0|64A4CTvJ2uRQVPkJ5...|2013-09-30|     2.89|2.8888888|\n",
      "|  17399192|60851158|-04zuZ0tQoGpgG49P...|  5.0|KxlRX3ORVZ2R80icu...|2013-05-18|      5.0|      5.0|\n",
      "|  59385589|87437728|-0Hbf-cgvSsu8749n...|  4.0|Ljknr0VF5Ia2DlTzE...|2016-05-14|     4.33|4.3333335|\n",
      "|  35747616|98918747|-0SqALqeWmInVftG_...|  4.0|rMrymOj6RcBBddGuO...|2011-10-23|      3.8|      3.8|\n",
      "|  26310381|89642291|-4BEUkLvHQntN6qPf...|  4.0|55X2pom73IhiP19UF...|2009-06-22|     3.71|3.7142856|\n",
      "|  88094466|63833796|-57uOzAWlx__p6QlX...|  3.0|aGDo7GDN5YLvpYykp...|2010-12-03|      4.4|      4.4|\n",
      "|  32276187| 1479202|-8mGZ-pJi-NcjZcku...|  5.0|8hZuRG3FiEpfLZeQW...|2014-11-05|     4.33|4.3333335|\n",
      "|  91616558|53914880|-Biq3Dt8YhkRJEO_I...|  5.0|NBeC9O-KlsZXc4-wt...|2015-10-23|      5.0|      5.0|\n",
      "|    665394|53914880|-Biq3Dt8YhkRJEO_I...|  5.0|TM-wGgFhXrRGv-LCu...|2015-09-13|      5.0|      5.0|\n",
      "|  69331869|53914880|-Biq3Dt8YhkRJEO_I...|  5.0|nUchNY5DITP4HC_Gv...|2015-08-09|      5.0|      5.0|\n",
      "|  31668053|91820882|-C1axHDk0GJCiaKvs...|  4.0|gaR5jDvZsOC0RQeY-...|2011-06-15|      4.0|      4.0|\n",
      "|  34627612|19518932|-EWgEX_dc1Xv83dVt...|  3.0|JQ5If23aqFhV6uuMR...|2017-10-31|      3.5|      3.5|\n",
      "|  40071680|30556663|-FTUBSOFcZuSWIlel...|  5.0|VLkGu3mEfqjOuqVrj...|2013-08-26|      5.0|      5.0|\n",
      "|  35552146|34830186|-NKh8fWHAQz1G3kEu...|  5.0|GqGVAE3kbEW46FU1L...|2016-06-22|      3.8|      3.8|\n",
      "|   2240080|21501001|-PP2PBPpbrYdITLHJ...|  1.0|ZBitvpKY5rbsDGqKr...|2015-05-18|      1.0|      1.0|\n",
      "|  22397165|21501001|-PP2PBPpbrYdITLHJ...|  5.0|olmCDBoMF-EhN8U2l...|2015-03-26|     4.44|4.4444447|\n",
      "|  18969296|46275467|-TMDrC66dvClx5Z7H...|  1.0|OjApDLQUPV8c_yPCg...|2015-07-23|     3.59| 3.586207|\n",
      "|  71474470| 8046553|-UtSFRnsdUgC_R1Oz...|  5.0|SMPbvZLSMMb7KU76Y...|2014-12-06|     3.87|3.8666666|\n",
      "|  99965793|65983232|-ZetsBlj8BlpySawl...|  5.0|R9Sg7UkLOTle_7lyX...|2014-10-16|      5.0|      5.0|\n",
      "+----------+--------+--------------------+-----+--------------------+----------+---------+---------+\n",
      "only showing top 20 rows\n",
      "\n"
     ]
    }
   ],
   "source": [
    "test_user = test.groupby('userId').avg().select('userId','avg(stars)')\n",
    "test_user = test_user.select('userId',test_user['avg(stars)'].alias('user-mean').cast('float'))\n",
    "test_item = test.groupby('businessId').avg().select('businessId','avg(stars)')\n",
    "test_item = test_item.select('businessId',test_item['avg(stars)'].alias('item-mean').cast('float'))\n",
    "test_df = test.join(test_user,'userId')\n",
    "df_test = test_df.join(test_item,'businessId')\n",
    "\n",
    "df_test = df_test.withColumn('user-mean',fix_round_udf(df_test['user-mean']))\n",
    "df_test = df_test.withColumn('user-mean',fix_round_udf(df_test['item-mean']))\n",
    "df_test.show(20)"
   ]
  },
  {
   "cell_type": "markdown",
   "metadata": {},
   "source": [
    "### rank=40"
   ]
  },
  {
   "cell_type": "code",
   "execution_count": 13,
   "metadata": {},
   "outputs": [],
   "source": [
    "als = ALS(maxIter=5, regParam=0.01, userCol=\"userId\", itemCol=\"businessId\", ratingCol='stars',\n",
    "          coldStartStrategy=\"drop\",rank=40)\n",
    "model = als.fit(training)"
   ]
  },
  {
   "cell_type": "code",
   "execution_count": 14,
   "metadata": {},
   "outputs": [
    {
     "name": "stdout",
     "output_type": "stream",
     "text": [
      "+--------------------+-----+--------------------+----------+--------+----------+----------+\n",
      "|             user_id|stars|         business_id|      date|  userId|businessId|prediction|\n",
      "+--------------------+-----+--------------------+----------+--------+----------+----------+\n",
      "|Yej5B4nd8PqpHMQcm...|  2.0|mv_J_UsHqy9CgwWqq...|2007-10-30| 9722800|      1088|0.44882596|\n",
      "|Isf8G6HPbNqEisKDj...|  5.0|dU-Nt1-LjV9mAgFOV...|2016-08-16| 8833276|    104880|-2.7993865|\n",
      "|8FWtB83j6xAkDkqka...|  3.0|s-26LoWzHdmX2woBE...|2016-01-10| 2865671|    189488|0.46369928|\n",
      "|rcTn6KPGYLsG8D8-_...|  5.0|5-DkRuxdG5EzmnOvf...|2015-03-10| 6695219|    310188|  -0.86885|\n",
      "|kmE8w5Y785eZmodsx...|  3.0|ml9WFLPNAIryG6zQn...|2008-09-02|14200281|    411771|   5.15891|\n",
      "+--------------------+-----+--------------------+----------+--------+----------+----------+\n",
      "only showing top 5 rows\n",
      "\n"
     ]
    }
   ],
   "source": [
    "predictions = model.transform(test)\n",
    "predictions.show(5)"
   ]
  },
  {
   "cell_type": "code",
   "execution_count": 15,
   "metadata": {},
   "outputs": [],
   "source": [
    "evaluator = RegressionEvaluator(metricName=\"rmse\", labelCol=\"stars\",predictionCol=\"prediction\")\n",
    "rmse = evaluator.evaluate(predictions)"
   ]
  },
  {
   "cell_type": "code",
   "execution_count": 17,
   "metadata": {},
   "outputs": [
    {
     "name": "stdout",
     "output_type": "stream",
     "text": [
      "Root-mean-square error = 3.73802926753\n"
     ]
    }
   ],
   "source": [
    "print(\"Root-mean-square error = \" + str(rmse))"
   ]
  },
  {
   "cell_type": "markdown",
   "metadata": {},
   "source": [
    "### rank = 30"
   ]
  },
  {
   "cell_type": "code",
   "execution_count": 20,
   "metadata": {},
   "outputs": [],
   "source": [
    "als_30 = ALS(maxIter=5, regParam=0.01, userCol=\"userId\", itemCol=\"businessId\", ratingCol='stars',\n",
    "          coldStartStrategy=\"drop\",rank=30)\n",
    "model_30 = als_30.fit(training)"
   ]
  },
  {
   "cell_type": "code",
   "execution_count": 21,
   "metadata": {},
   "outputs": [
    {
     "name": "stdout",
     "output_type": "stream",
     "text": [
      "Root-mean-square error = 3.90351821367\n"
     ]
    }
   ],
   "source": [
    "predictions_30 = model_30.transform(test)\n",
    "evaluator_30 = RegressionEvaluator(metricName=\"rmse\", labelCol=\"stars\",predictionCol=\"prediction\")\n",
    "rmse_30 = evaluator_30.evaluate(predictions_30)\n",
    "print(\"Root-mean-square error = \" + str(rmse_30))"
   ]
  },
  {
   "cell_type": "markdown",
   "metadata": {},
   "source": [
    "### rank = 50"
   ]
  },
  {
   "cell_type": "code",
   "execution_count": 22,
   "metadata": {},
   "outputs": [],
   "source": [
    "als_50 = ALS(maxIter=5, regParam=0.01, userCol=\"userId\", itemCol=\"businessId\", ratingCol='stars',\n",
    "          coldStartStrategy=\"drop\",rank=50)\n",
    "model_50 = als_50.fit(training)"
   ]
  },
  {
   "cell_type": "code",
   "execution_count": 23,
   "metadata": {},
   "outputs": [
    {
     "name": "stdout",
     "output_type": "stream",
     "text": [
      "Root-mean-square error = 3.62734765498\n"
     ]
    }
   ],
   "source": [
    "predictions_50 = model_50.transform(test)\n",
    "evaluator_50 = RegressionEvaluator(metricName=\"rmse\", labelCol=\"stars\",predictionCol=\"prediction\")\n",
    "rmse_50 = evaluator_50.evaluate(predictions_50)\n",
    "print(\"Root-mean-square error = \" + str(rmse_50))"
   ]
  },
  {
   "cell_type": "markdown",
   "metadata": {},
   "source": [
    "### rank = 60"
   ]
  },
  {
   "cell_type": "code",
   "execution_count": 24,
   "metadata": {},
   "outputs": [],
   "source": [
    "als_60 = ALS(maxIter=5, regParam=0.01, userCol=\"userId\", itemCol=\"businessId\", ratingCol='stars',\n",
    "          coldStartStrategy=\"drop\",rank=60)\n",
    "model_60 = als_60.fit(training)"
   ]
  },
  {
   "cell_type": "code",
   "execution_count": 25,
   "metadata": {},
   "outputs": [
    {
     "name": "stdout",
     "output_type": "stream",
     "text": [
      "Root-mean-square error = 3.51783058839\n"
     ]
    }
   ],
   "source": [
    "predictions_60 = model_60.transform(test)\n",
    "evaluator_60 = RegressionEvaluator(metricName=\"rmse\", labelCol=\"stars\",predictionCol=\"prediction\")\n",
    "rmse_60 = evaluator_60.evaluate(predictions_60)\n",
    "print(\"Root-mean-square error = \" + str(rmse_60))"
   ]
  },
  {
   "cell_type": "markdown",
   "metadata": {},
   "source": [
    "### rank = 70"
   ]
  },
  {
   "cell_type": "code",
   "execution_count": 26,
   "metadata": {},
   "outputs": [],
   "source": [
    "als_70 = ALS(maxIter=5, regParam=0.01, userCol=\"userId\", itemCol=\"businessId\", ratingCol='stars',\n",
    "          coldStartStrategy=\"drop\",rank=70)\n",
    "model_70 = als_70.fit(training)"
   ]
  },
  {
   "cell_type": "code",
   "execution_count": 27,
   "metadata": {},
   "outputs": [
    {
     "name": "stdout",
     "output_type": "stream",
     "text": [
      "Root-mean-square error = 3.48522977122\n"
     ]
    }
   ],
   "source": [
    "predictions_70 = model_70.transform(test)\n",
    "evaluator_70 = RegressionEvaluator(metricName=\"rmse\", labelCol=\"stars\",predictionCol=\"prediction\")\n",
    "rmse_70 = evaluator_70.evaluate(predictions_70)\n",
    "print(\"Root-mean-square error = \" + str(rmse_70))"
   ]
  },
  {
   "cell_type": "markdown",
   "metadata": {},
   "source": [
    "### rank = 80"
   ]
  },
  {
   "cell_type": "code",
   "execution_count": 28,
   "metadata": {},
   "outputs": [],
   "source": [
    "als_80 = ALS(maxIter=5, regParam=0.01, userCol=\"userId\", itemCol=\"businessId\", ratingCol='stars',\n",
    "          coldStartStrategy=\"drop\",rank=80)\n",
    "model_80 = als_80.fit(training)"
   ]
  },
  {
   "cell_type": "code",
   "execution_count": 29,
   "metadata": {},
   "outputs": [
    {
     "name": "stdout",
     "output_type": "stream",
     "text": [
      "Root-mean-square error = 3.43358260054\n"
     ]
    }
   ],
   "source": [
    "predictions_80 = model_80.transform(test)\n",
    "evaluator_80 = RegressionEvaluator(metricName=\"rmse\", labelCol=\"stars\",predictionCol=\"prediction\")\n",
    "rmse_80 = evaluator_80.evaluate(predictions_80)\n",
    "print(\"Root-mean-square error = \" + str(rmse_80))"
   ]
  },
  {
   "cell_type": "markdown",
   "metadata": {},
   "source": [
    "### rank = 90"
   ]
  },
  {
   "cell_type": "code",
   "execution_count": 30,
   "metadata": {},
   "outputs": [],
   "source": [
    "als_90 = ALS(maxIter=5, regParam=0.01, userCol=\"userId\", itemCol=\"businessId\", ratingCol='stars',\n",
    "          coldStartStrategy=\"drop\",rank=90)\n",
    "model_90 = als_90.fit(training)"
   ]
  },
  {
   "cell_type": "code",
   "execution_count": 31,
   "metadata": {},
   "outputs": [
    {
     "name": "stdout",
     "output_type": "stream",
     "text": [
      "Root-mean-square error = 3.44112323274\n"
     ]
    }
   ],
   "source": [
    "predictions_90 = model_90.transform(test)\n",
    "evaluator_90 = RegressionEvaluator(metricName=\"rmse\", labelCol=\"stars\",predictionCol=\"prediction\")\n",
    "rmse_90 = evaluator_90.evaluate(predictions_90)\n",
    "print(\"Root-mean-square error = \" + str(rmse_90))"
   ]
  },
  {
   "cell_type": "code",
   "execution_count": null,
   "metadata": {},
   "outputs": [],
   "source": []
  }
 ],
 "metadata": {
  "kernelspec": {
   "display_name": "Python 2",
   "language": "python",
   "name": "python2"
  },
  "language_info": {
   "codemirror_mode": {
    "name": "ipython",
    "version": 2
   },
   "file_extension": ".py",
   "mimetype": "text/x-python",
   "name": "python",
   "nbconvert_exporter": "python",
   "pygments_lexer": "ipython2",
   "version": "2.7.12"
  }
 },
 "nbformat": 4,
 "nbformat_minor": 2
}
